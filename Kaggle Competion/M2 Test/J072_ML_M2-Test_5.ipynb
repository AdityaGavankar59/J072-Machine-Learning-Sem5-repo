{
 "cells": [
  {
   "cell_type": "markdown",
   "id": "513a4778",
   "metadata": {},
   "source": [
    "# Machine Learning\n",
    "## Aditya Gavankar (J072)\n",
    "\n",
    "## Test:- M2\n",
    "## Competition:- 5"
   ]
  },
  {
   "cell_type": "code",
   "execution_count": null,
   "id": "1d4fb4f1",
   "metadata": {},
   "outputs": [],
   "source": []
  },
  {
   "cell_type": "markdown",
   "id": "74029904",
   "metadata": {},
   "source": [
    "### Importing Libraries"
   ]
  },
  {
   "cell_type": "code",
   "execution_count": 35,
   "id": "ce8be7fb",
   "metadata": {},
   "outputs": [],
   "source": [
    "import pandas as pd\n",
    "import numpy as np\n",
    "import seaborn as sns\n",
    "import matplotlib.pyplot as plt\n",
    "\n",
    "from sklearn.metrics import roc_auc_score"
   ]
  },
  {
   "cell_type": "code",
   "execution_count": 36,
   "id": "5e1d8666",
   "metadata": {},
   "outputs": [
    {
     "data": {
      "text/html": [
       "<div>\n",
       "<style scoped>\n",
       "    .dataframe tbody tr th:only-of-type {\n",
       "        vertical-align: middle;\n",
       "    }\n",
       "\n",
       "    .dataframe tbody tr th {\n",
       "        vertical-align: top;\n",
       "    }\n",
       "\n",
       "    .dataframe thead th {\n",
       "        text-align: right;\n",
       "    }\n",
       "</style>\n",
       "<table border=\"1\" class=\"dataframe\">\n",
       "  <thead>\n",
       "    <tr style=\"text-align: right;\">\n",
       "      <th></th>\n",
       "      <th>id</th>\n",
       "      <th>Age</th>\n",
       "      <th>Employment Type</th>\n",
       "      <th>GraduateOrNot</th>\n",
       "      <th>AnnualIncome</th>\n",
       "      <th>FamilyMembers</th>\n",
       "      <th>ChronicDiseases</th>\n",
       "      <th>FrequentFlyer</th>\n",
       "      <th>EverTravelledAbroad</th>\n",
       "      <th>TravelInsurance</th>\n",
       "    </tr>\n",
       "  </thead>\n",
       "  <tbody>\n",
       "    <tr>\n",
       "      <th>0</th>\n",
       "      <td>1144</td>\n",
       "      <td>33</td>\n",
       "      <td>Government Sector</td>\n",
       "      <td>Yes</td>\n",
       "      <td>800000</td>\n",
       "      <td>5</td>\n",
       "      <td>1</td>\n",
       "      <td>No</td>\n",
       "      <td>No</td>\n",
       "      <td>0</td>\n",
       "    </tr>\n",
       "    <tr>\n",
       "      <th>1</th>\n",
       "      <td>1213</td>\n",
       "      <td>28</td>\n",
       "      <td>Private Sector/Self Employed</td>\n",
       "      <td>Yes</td>\n",
       "      <td>1100000</td>\n",
       "      <td>4</td>\n",
       "      <td>1</td>\n",
       "      <td>Yes</td>\n",
       "      <td>No</td>\n",
       "      <td>0</td>\n",
       "    </tr>\n",
       "    <tr>\n",
       "      <th>2</th>\n",
       "      <td>1138</td>\n",
       "      <td>27</td>\n",
       "      <td>Government Sector</td>\n",
       "      <td>Yes</td>\n",
       "      <td>500000</td>\n",
       "      <td>4</td>\n",
       "      <td>0</td>\n",
       "      <td>No</td>\n",
       "      <td>No</td>\n",
       "      <td>0</td>\n",
       "    </tr>\n",
       "    <tr>\n",
       "      <th>3</th>\n",
       "      <td>1329</td>\n",
       "      <td>28</td>\n",
       "      <td>Private Sector/Self Employed</td>\n",
       "      <td>Yes</td>\n",
       "      <td>550000</td>\n",
       "      <td>4</td>\n",
       "      <td>0</td>\n",
       "      <td>Yes</td>\n",
       "      <td>No</td>\n",
       "      <td>0</td>\n",
       "    </tr>\n",
       "    <tr>\n",
       "      <th>4</th>\n",
       "      <td>1446</td>\n",
       "      <td>33</td>\n",
       "      <td>Private Sector/Self Employed</td>\n",
       "      <td>Yes</td>\n",
       "      <td>550000</td>\n",
       "      <td>7</td>\n",
       "      <td>1</td>\n",
       "      <td>Yes</td>\n",
       "      <td>No</td>\n",
       "      <td>1</td>\n",
       "    </tr>\n",
       "  </tbody>\n",
       "</table>\n",
       "</div>"
      ],
      "text/plain": [
       "     id  Age               Employment Type GraduateOrNot  AnnualIncome  \\\n",
       "0  1144   33             Government Sector           Yes        800000   \n",
       "1  1213   28  Private Sector/Self Employed           Yes       1100000   \n",
       "2  1138   27             Government Sector           Yes        500000   \n",
       "3  1329   28  Private Sector/Self Employed           Yes        550000   \n",
       "4  1446   33  Private Sector/Self Employed           Yes        550000   \n",
       "\n",
       "   FamilyMembers  ChronicDiseases FrequentFlyer EverTravelledAbroad  \\\n",
       "0              5                1            No                  No   \n",
       "1              4                1           Yes                  No   \n",
       "2              4                0            No                  No   \n",
       "3              4                0           Yes                  No   \n",
       "4              7                1           Yes                  No   \n",
       "\n",
       "   TravelInsurance  \n",
       "0                0  \n",
       "1                0  \n",
       "2                0  \n",
       "3                0  \n",
       "4                1  "
      ]
     },
     "execution_count": 36,
     "metadata": {},
     "output_type": "execute_result"
    }
   ],
   "source": [
    "train_df = pd.read_csv('train.csv')\n",
    "train_df.head()"
   ]
  },
  {
   "cell_type": "code",
   "execution_count": 37,
   "id": "60b82c83",
   "metadata": {},
   "outputs": [
    {
     "data": {
      "text/html": [
       "<div>\n",
       "<style scoped>\n",
       "    .dataframe tbody tr th:only-of-type {\n",
       "        vertical-align: middle;\n",
       "    }\n",
       "\n",
       "    .dataframe tbody tr th {\n",
       "        vertical-align: top;\n",
       "    }\n",
       "\n",
       "    .dataframe thead th {\n",
       "        text-align: right;\n",
       "    }\n",
       "</style>\n",
       "<table border=\"1\" class=\"dataframe\">\n",
       "  <thead>\n",
       "    <tr style=\"text-align: right;\">\n",
       "      <th></th>\n",
       "      <th>id</th>\n",
       "      <th>Age</th>\n",
       "      <th>Employment Type</th>\n",
       "      <th>GraduateOrNot</th>\n",
       "      <th>AnnualIncome</th>\n",
       "      <th>FamilyMembers</th>\n",
       "      <th>ChronicDiseases</th>\n",
       "      <th>FrequentFlyer</th>\n",
       "      <th>EverTravelledAbroad</th>\n",
       "    </tr>\n",
       "  </thead>\n",
       "  <tbody>\n",
       "    <tr>\n",
       "      <th>0</th>\n",
       "      <td>0</td>\n",
       "      <td>27</td>\n",
       "      <td>Government Sector</td>\n",
       "      <td>Yes</td>\n",
       "      <td>500000</td>\n",
       "      <td>5</td>\n",
       "      <td>0</td>\n",
       "      <td>No</td>\n",
       "      <td>No</td>\n",
       "    </tr>\n",
       "    <tr>\n",
       "      <th>1</th>\n",
       "      <td>9</td>\n",
       "      <td>34</td>\n",
       "      <td>Private Sector/Self Employed</td>\n",
       "      <td>Yes</td>\n",
       "      <td>1050000</td>\n",
       "      <td>4</td>\n",
       "      <td>0</td>\n",
       "      <td>No</td>\n",
       "      <td>No</td>\n",
       "    </tr>\n",
       "    <tr>\n",
       "      <th>2</th>\n",
       "      <td>14</td>\n",
       "      <td>29</td>\n",
       "      <td>Private Sector/Self Employed</td>\n",
       "      <td>Yes</td>\n",
       "      <td>1200000</td>\n",
       "      <td>4</td>\n",
       "      <td>0</td>\n",
       "      <td>No</td>\n",
       "      <td>No</td>\n",
       "    </tr>\n",
       "    <tr>\n",
       "      <th>3</th>\n",
       "      <td>31</td>\n",
       "      <td>25</td>\n",
       "      <td>Private Sector/Self Employed</td>\n",
       "      <td>Yes</td>\n",
       "      <td>1400000</td>\n",
       "      <td>7</td>\n",
       "      <td>0</td>\n",
       "      <td>No</td>\n",
       "      <td>Yes</td>\n",
       "    </tr>\n",
       "    <tr>\n",
       "      <th>4</th>\n",
       "      <td>41</td>\n",
       "      <td>31</td>\n",
       "      <td>Private Sector/Self Employed</td>\n",
       "      <td>Yes</td>\n",
       "      <td>1400000</td>\n",
       "      <td>6</td>\n",
       "      <td>0</td>\n",
       "      <td>No</td>\n",
       "      <td>Yes</td>\n",
       "    </tr>\n",
       "  </tbody>\n",
       "</table>\n",
       "</div>"
      ],
      "text/plain": [
       "   id  Age               Employment Type GraduateOrNot  AnnualIncome  \\\n",
       "0   0   27             Government Sector           Yes        500000   \n",
       "1   9   34  Private Sector/Self Employed           Yes       1050000   \n",
       "2  14   29  Private Sector/Self Employed           Yes       1200000   \n",
       "3  31   25  Private Sector/Self Employed           Yes       1400000   \n",
       "4  41   31  Private Sector/Self Employed           Yes       1400000   \n",
       "\n",
       "   FamilyMembers  ChronicDiseases FrequentFlyer EverTravelledAbroad  \n",
       "0              5                0            No                  No  \n",
       "1              4                0            No                  No  \n",
       "2              4                0            No                  No  \n",
       "3              7                0            No                 Yes  \n",
       "4              6                0            No                 Yes  "
      ]
     },
     "execution_count": 37,
     "metadata": {},
     "output_type": "execute_result"
    }
   ],
   "source": [
    "test_df = pd.read_csv('test.csv')\n",
    "test_df.head()"
   ]
  },
  {
   "cell_type": "markdown",
   "id": "dd656378",
   "metadata": {},
   "source": [
    "### Encoding the categorical data"
   ]
  },
  {
   "cell_type": "code",
   "execution_count": 38,
   "id": "2d411028",
   "metadata": {},
   "outputs": [
    {
     "data": {
      "text/html": [
       "<div>\n",
       "<style scoped>\n",
       "    .dataframe tbody tr th:only-of-type {\n",
       "        vertical-align: middle;\n",
       "    }\n",
       "\n",
       "    .dataframe tbody tr th {\n",
       "        vertical-align: top;\n",
       "    }\n",
       "\n",
       "    .dataframe thead th {\n",
       "        text-align: right;\n",
       "    }\n",
       "</style>\n",
       "<table border=\"1\" class=\"dataframe\">\n",
       "  <thead>\n",
       "    <tr style=\"text-align: right;\">\n",
       "      <th></th>\n",
       "      <th>id</th>\n",
       "      <th>Age</th>\n",
       "      <th>Employment Type</th>\n",
       "      <th>GraduateOrNot</th>\n",
       "      <th>AnnualIncome</th>\n",
       "      <th>FamilyMembers</th>\n",
       "      <th>ChronicDiseases</th>\n",
       "      <th>FrequentFlyer</th>\n",
       "      <th>EverTravelledAbroad</th>\n",
       "      <th>TravelInsurance</th>\n",
       "    </tr>\n",
       "  </thead>\n",
       "  <tbody>\n",
       "    <tr>\n",
       "      <th>0</th>\n",
       "      <td>1144</td>\n",
       "      <td>33</td>\n",
       "      <td>0</td>\n",
       "      <td>1</td>\n",
       "      <td>800000</td>\n",
       "      <td>5</td>\n",
       "      <td>1</td>\n",
       "      <td>0</td>\n",
       "      <td>0</td>\n",
       "      <td>0</td>\n",
       "    </tr>\n",
       "    <tr>\n",
       "      <th>1</th>\n",
       "      <td>1213</td>\n",
       "      <td>28</td>\n",
       "      <td>1</td>\n",
       "      <td>1</td>\n",
       "      <td>1100000</td>\n",
       "      <td>4</td>\n",
       "      <td>1</td>\n",
       "      <td>1</td>\n",
       "      <td>0</td>\n",
       "      <td>0</td>\n",
       "    </tr>\n",
       "    <tr>\n",
       "      <th>2</th>\n",
       "      <td>1138</td>\n",
       "      <td>27</td>\n",
       "      <td>0</td>\n",
       "      <td>1</td>\n",
       "      <td>500000</td>\n",
       "      <td>4</td>\n",
       "      <td>0</td>\n",
       "      <td>0</td>\n",
       "      <td>0</td>\n",
       "      <td>0</td>\n",
       "    </tr>\n",
       "    <tr>\n",
       "      <th>3</th>\n",
       "      <td>1329</td>\n",
       "      <td>28</td>\n",
       "      <td>1</td>\n",
       "      <td>1</td>\n",
       "      <td>550000</td>\n",
       "      <td>4</td>\n",
       "      <td>0</td>\n",
       "      <td>1</td>\n",
       "      <td>0</td>\n",
       "      <td>0</td>\n",
       "    </tr>\n",
       "    <tr>\n",
       "      <th>4</th>\n",
       "      <td>1446</td>\n",
       "      <td>33</td>\n",
       "      <td>1</td>\n",
       "      <td>1</td>\n",
       "      <td>550000</td>\n",
       "      <td>7</td>\n",
       "      <td>1</td>\n",
       "      <td>1</td>\n",
       "      <td>0</td>\n",
       "      <td>1</td>\n",
       "    </tr>\n",
       "  </tbody>\n",
       "</table>\n",
       "</div>"
      ],
      "text/plain": [
       "     id  Age  Employment Type  GraduateOrNot  AnnualIncome  FamilyMembers  \\\n",
       "0  1144   33                0              1        800000              5   \n",
       "1  1213   28                1              1       1100000              4   \n",
       "2  1138   27                0              1        500000              4   \n",
       "3  1329   28                1              1        550000              4   \n",
       "4  1446   33                1              1        550000              7   \n",
       "\n",
       "   ChronicDiseases  FrequentFlyer  EverTravelledAbroad  TravelInsurance  \n",
       "0                1              0                    0                0  \n",
       "1                1              1                    0                0  \n",
       "2                0              0                    0                0  \n",
       "3                0              1                    0                0  \n",
       "4                1              1                    0                1  "
      ]
     },
     "execution_count": 38,
     "metadata": {},
     "output_type": "execute_result"
    }
   ],
   "source": [
    "employ_num = {'Government Sector': 0, 'Private Sector/Self Employed': 1}\n",
    "grad_num = {'No': 0, 'Yes': 1}\n",
    "flyer_num = {'No': 0, 'Yes': 1}\n",
    "abroad_num = {'No': 0, 'Yes': 1}\n",
    "\n",
    "train_df['Employment Type'] = train_df['Employment Type'].map(employ_num)\n",
    "train_df['GraduateOrNot'] = train_df['GraduateOrNot'].map(grad_num)\n",
    "train_df['FrequentFlyer'] = train_df['FrequentFlyer'].map(flyer_num)\n",
    "train_df['EverTravelledAbroad'] = train_df['EverTravelledAbroad'].map(abroad_num)\n",
    "\n",
    "train_df.head()"
   ]
  },
  {
   "cell_type": "markdown",
   "id": "86254bae",
   "metadata": {},
   "source": [
    "### Random Oversampling of the minority class"
   ]
  },
  {
   "cell_type": "code",
   "execution_count": 39,
   "id": "2fb5d21e",
   "metadata": {},
   "outputs": [
    {
     "data": {
      "text/plain": [
       "0    1014\n",
       "1     576\n",
       "Name: TravelInsurance, dtype: int64"
      ]
     },
     "execution_count": 39,
     "metadata": {},
     "output_type": "execute_result"
    }
   ],
   "source": [
    "train_df['TravelInsurance'].value_counts()"
   ]
  },
  {
   "cell_type": "markdown",
   "id": "72da05fb",
   "metadata": {},
   "source": [
    "Here, our aim is to make the class ratio (1:1) for random oversampling.\\\n",
    "Therefore, (1014 - 576) = 438 more samples needed for the minority i.e., class 1."
   ]
  },
  {
   "cell_type": "code",
   "execution_count": 40,
   "id": "f7ebd680",
   "metadata": {},
   "outputs": [
    {
     "data": {
      "text/html": [
       "<div>\n",
       "<style scoped>\n",
       "    .dataframe tbody tr th:only-of-type {\n",
       "        vertical-align: middle;\n",
       "    }\n",
       "\n",
       "    .dataframe tbody tr th {\n",
       "        vertical-align: top;\n",
       "    }\n",
       "\n",
       "    .dataframe thead th {\n",
       "        text-align: right;\n",
       "    }\n",
       "</style>\n",
       "<table border=\"1\" class=\"dataframe\">\n",
       "  <thead>\n",
       "    <tr style=\"text-align: right;\">\n",
       "      <th></th>\n",
       "      <th>Age</th>\n",
       "      <th>Employment Type</th>\n",
       "      <th>GraduateOrNot</th>\n",
       "      <th>AnnualIncome</th>\n",
       "      <th>FamilyMembers</th>\n",
       "      <th>ChronicDiseases</th>\n",
       "      <th>FrequentFlyer</th>\n",
       "      <th>EverTravelledAbroad</th>\n",
       "      <th>TravelInsurance</th>\n",
       "    </tr>\n",
       "  </thead>\n",
       "  <tbody>\n",
       "    <tr>\n",
       "      <th>0</th>\n",
       "      <td>33</td>\n",
       "      <td>0</td>\n",
       "      <td>1</td>\n",
       "      <td>800000</td>\n",
       "      <td>5</td>\n",
       "      <td>1</td>\n",
       "      <td>0</td>\n",
       "      <td>0</td>\n",
       "      <td>0</td>\n",
       "    </tr>\n",
       "    <tr>\n",
       "      <th>1</th>\n",
       "      <td>28</td>\n",
       "      <td>1</td>\n",
       "      <td>1</td>\n",
       "      <td>1100000</td>\n",
       "      <td>4</td>\n",
       "      <td>1</td>\n",
       "      <td>1</td>\n",
       "      <td>0</td>\n",
       "      <td>0</td>\n",
       "    </tr>\n",
       "    <tr>\n",
       "      <th>2</th>\n",
       "      <td>27</td>\n",
       "      <td>0</td>\n",
       "      <td>1</td>\n",
       "      <td>500000</td>\n",
       "      <td>4</td>\n",
       "      <td>0</td>\n",
       "      <td>0</td>\n",
       "      <td>0</td>\n",
       "      <td>0</td>\n",
       "    </tr>\n",
       "    <tr>\n",
       "      <th>3</th>\n",
       "      <td>28</td>\n",
       "      <td>1</td>\n",
       "      <td>1</td>\n",
       "      <td>550000</td>\n",
       "      <td>4</td>\n",
       "      <td>0</td>\n",
       "      <td>1</td>\n",
       "      <td>0</td>\n",
       "      <td>0</td>\n",
       "    </tr>\n",
       "    <tr>\n",
       "      <th>4</th>\n",
       "      <td>33</td>\n",
       "      <td>1</td>\n",
       "      <td>1</td>\n",
       "      <td>550000</td>\n",
       "      <td>7</td>\n",
       "      <td>1</td>\n",
       "      <td>1</td>\n",
       "      <td>0</td>\n",
       "      <td>1</td>\n",
       "    </tr>\n",
       "  </tbody>\n",
       "</table>\n",
       "</div>"
      ],
      "text/plain": [
       "   Age  Employment Type  GraduateOrNot  AnnualIncome  FamilyMembers  \\\n",
       "0   33                0              1        800000              5   \n",
       "1   28                1              1       1100000              4   \n",
       "2   27                0              1        500000              4   \n",
       "3   28                1              1        550000              4   \n",
       "4   33                1              1        550000              7   \n",
       "\n",
       "   ChronicDiseases  FrequentFlyer  EverTravelledAbroad  TravelInsurance  \n",
       "0                1              0                    0                0  \n",
       "1                1              1                    0                0  \n",
       "2                0              0                    0                0  \n",
       "3                0              1                    0                0  \n",
       "4                1              1                    0                1  "
      ]
     },
     "execution_count": 40,
     "metadata": {},
     "output_type": "execute_result"
    }
   ],
   "source": [
    "train = train_df.iloc[:, 1:].copy(deep = True)\n",
    "train.head()"
   ]
  },
  {
   "cell_type": "code",
   "execution_count": 41,
   "id": "ff1062ce",
   "metadata": {},
   "outputs": [
    {
     "data": {
      "text/html": [
       "<div>\n",
       "<style scoped>\n",
       "    .dataframe tbody tr th:only-of-type {\n",
       "        vertical-align: middle;\n",
       "    }\n",
       "\n",
       "    .dataframe tbody tr th {\n",
       "        vertical-align: top;\n",
       "    }\n",
       "\n",
       "    .dataframe thead th {\n",
       "        text-align: right;\n",
       "    }\n",
       "</style>\n",
       "<table border=\"1\" class=\"dataframe\">\n",
       "  <thead>\n",
       "    <tr style=\"text-align: right;\">\n",
       "      <th></th>\n",
       "      <th>Age</th>\n",
       "      <th>Employment Type</th>\n",
       "      <th>GraduateOrNot</th>\n",
       "      <th>AnnualIncome</th>\n",
       "      <th>FamilyMembers</th>\n",
       "      <th>ChronicDiseases</th>\n",
       "      <th>FrequentFlyer</th>\n",
       "      <th>EverTravelledAbroad</th>\n",
       "      <th>TravelInsurance</th>\n",
       "    </tr>\n",
       "  </thead>\n",
       "  <tbody>\n",
       "    <tr>\n",
       "      <th>0</th>\n",
       "      <td>NaN</td>\n",
       "      <td>NaN</td>\n",
       "      <td>NaN</td>\n",
       "      <td>NaN</td>\n",
       "      <td>NaN</td>\n",
       "      <td>NaN</td>\n",
       "      <td>NaN</td>\n",
       "      <td>NaN</td>\n",
       "      <td>NaN</td>\n",
       "    </tr>\n",
       "    <tr>\n",
       "      <th>1</th>\n",
       "      <td>NaN</td>\n",
       "      <td>NaN</td>\n",
       "      <td>NaN</td>\n",
       "      <td>NaN</td>\n",
       "      <td>NaN</td>\n",
       "      <td>NaN</td>\n",
       "      <td>NaN</td>\n",
       "      <td>NaN</td>\n",
       "      <td>NaN</td>\n",
       "    </tr>\n",
       "    <tr>\n",
       "      <th>2</th>\n",
       "      <td>NaN</td>\n",
       "      <td>NaN</td>\n",
       "      <td>NaN</td>\n",
       "      <td>NaN</td>\n",
       "      <td>NaN</td>\n",
       "      <td>NaN</td>\n",
       "      <td>NaN</td>\n",
       "      <td>NaN</td>\n",
       "      <td>NaN</td>\n",
       "    </tr>\n",
       "    <tr>\n",
       "      <th>3</th>\n",
       "      <td>NaN</td>\n",
       "      <td>NaN</td>\n",
       "      <td>NaN</td>\n",
       "      <td>NaN</td>\n",
       "      <td>NaN</td>\n",
       "      <td>NaN</td>\n",
       "      <td>NaN</td>\n",
       "      <td>NaN</td>\n",
       "      <td>NaN</td>\n",
       "    </tr>\n",
       "    <tr>\n",
       "      <th>4</th>\n",
       "      <td>NaN</td>\n",
       "      <td>NaN</td>\n",
       "      <td>NaN</td>\n",
       "      <td>NaN</td>\n",
       "      <td>NaN</td>\n",
       "      <td>NaN</td>\n",
       "      <td>NaN</td>\n",
       "      <td>NaN</td>\n",
       "      <td>NaN</td>\n",
       "    </tr>\n",
       "  </tbody>\n",
       "</table>\n",
       "</div>"
      ],
      "text/plain": [
       "   Age Employment Type GraduateOrNot AnnualIncome FamilyMembers  \\\n",
       "0  NaN             NaN           NaN          NaN           NaN   \n",
       "1  NaN             NaN           NaN          NaN           NaN   \n",
       "2  NaN             NaN           NaN          NaN           NaN   \n",
       "3  NaN             NaN           NaN          NaN           NaN   \n",
       "4  NaN             NaN           NaN          NaN           NaN   \n",
       "\n",
       "  ChronicDiseases FrequentFlyer EverTravelledAbroad TravelInsurance  \n",
       "0             NaN           NaN                 NaN             NaN  \n",
       "1             NaN           NaN                 NaN             NaN  \n",
       "2             NaN           NaN                 NaN             NaN  \n",
       "3             NaN           NaN                 NaN             NaN  \n",
       "4             NaN           NaN                 NaN             NaN  "
      ]
     },
     "execution_count": 41,
     "metadata": {},
     "output_type": "execute_result"
    }
   ],
   "source": [
    "train_new = pd.DataFrame(index = range(0,2028), columns = train.columns)\n",
    "train_new.head()"
   ]
  },
  {
   "cell_type": "code",
   "execution_count": 42,
   "id": "6344b1e9",
   "metadata": {},
   "outputs": [
    {
     "data": {
      "text/plain": [
       "1    1014\n",
       "0    1014\n",
       "Name: TravelInsurance, dtype: int64"
      ]
     },
     "execution_count": 42,
     "metadata": {},
     "output_type": "execute_result"
    }
   ],
   "source": [
    "import random\n",
    "random.seed(41)\n",
    "\n",
    "minority_indices = list(train[train['TravelInsurance'] == 1].index)\n",
    "oversampled_indices = random.choices(minority_indices, k = 438)\n",
    "train_new.iloc[:1590,:] = train.iloc[:,:].copy(deep = True)\n",
    "\n",
    "x = 0\n",
    "for i in range(1590, 2028):\n",
    "    train_new.iloc[i,:] = train.iloc[oversampled_indices[x],:]\n",
    "    x = x + 1\n",
    "\n",
    "train_new['TravelInsurance'].value_counts()"
   ]
  },
  {
   "cell_type": "code",
   "execution_count": 43,
   "id": "25c797b0",
   "metadata": {},
   "outputs": [
    {
     "name": "stdout",
     "output_type": "stream",
     "text": [
      "<class 'pandas.core.frame.DataFrame'>\n",
      "RangeIndex: 2028 entries, 0 to 2027\n",
      "Data columns (total 9 columns):\n",
      " #   Column               Non-Null Count  Dtype \n",
      "---  ------               --------------  ----- \n",
      " 0   Age                  2028 non-null   object\n",
      " 1   Employment Type      2028 non-null   object\n",
      " 2   GraduateOrNot        2028 non-null   object\n",
      " 3   AnnualIncome         2028 non-null   object\n",
      " 4   FamilyMembers        2028 non-null   object\n",
      " 5   ChronicDiseases      2028 non-null   object\n",
      " 6   FrequentFlyer        2028 non-null   object\n",
      " 7   EverTravelledAbroad  2028 non-null   object\n",
      " 8   TravelInsurance      2028 non-null   object\n",
      "dtypes: object(9)\n",
      "memory usage: 142.7+ KB\n"
     ]
    }
   ],
   "source": [
    "train_new.info()"
   ]
  },
  {
   "cell_type": "code",
   "execution_count": 44,
   "id": "1408345c",
   "metadata": {},
   "outputs": [
    {
     "name": "stdout",
     "output_type": "stream",
     "text": [
      "<class 'pandas.core.frame.DataFrame'>\n",
      "RangeIndex: 2028 entries, 0 to 2027\n",
      "Data columns (total 9 columns):\n",
      " #   Column               Non-Null Count  Dtype\n",
      "---  ------               --------------  -----\n",
      " 0   Age                  2028 non-null   int64\n",
      " 1   Employment Type      2028 non-null   int64\n",
      " 2   GraduateOrNot        2028 non-null   int64\n",
      " 3   AnnualIncome         2028 non-null   int64\n",
      " 4   FamilyMembers        2028 non-null   int64\n",
      " 5   ChronicDiseases      2028 non-null   int64\n",
      " 6   FrequentFlyer        2028 non-null   int64\n",
      " 7   EverTravelledAbroad  2028 non-null   int64\n",
      " 8   TravelInsurance      2028 non-null   int64\n",
      "dtypes: int64(9)\n",
      "memory usage: 142.7 KB\n"
     ]
    }
   ],
   "source": [
    "for column in train_new.columns[:]:\n",
    "    train_new[column] = train_new[column].astype(dtype = 'int64')\n",
    "\n",
    "train_new.info()"
   ]
  },
  {
   "cell_type": "markdown",
   "id": "81f4b157",
   "metadata": {},
   "source": [
    "### Data cleaning"
   ]
  },
  {
   "cell_type": "code",
   "execution_count": 45,
   "id": "6ee9ebc1",
   "metadata": {},
   "outputs": [
    {
     "data": {
      "text/plain": [
       "Age                    0\n",
       "Employment Type        0\n",
       "GraduateOrNot          0\n",
       "AnnualIncome           0\n",
       "FamilyMembers          0\n",
       "ChronicDiseases        0\n",
       "FrequentFlyer          0\n",
       "EverTravelledAbroad    0\n",
       "TravelInsurance        0\n",
       "dtype: int64"
      ]
     },
     "execution_count": 45,
     "metadata": {},
     "output_type": "execute_result"
    }
   ],
   "source": [
    "train_new.isnull().sum()"
   ]
  },
  {
   "cell_type": "code",
   "execution_count": 46,
   "id": "9a51c096",
   "metadata": {},
   "outputs": [
    {
     "data": {
      "text/plain": [
       "<AxesSubplot:>"
      ]
     },
     "execution_count": 46,
     "metadata": {},
     "output_type": "execute_result"
    },
    {
     "data": {
      "image/png": "[encoded data removed]",
      "text/plain": [
       "<Figure size 1080x432 with 1 Axes>"
      ]
     },
     "metadata": {
      "needs_background": "light"
     },
     "output_type": "display_data"
    }
   ],
   "source": [
    "plt.figure(figsize=(15,6))\n",
    "train_new.iloc[:,:-1].boxplot(vert=1)"
   ]
  },
  {
   "cell_type": "markdown",
   "id": "1ebf784a",
   "metadata": {},
   "source": [
    "Here, we have 3 columns with outliers. \\\n",
    "Therefore, we cap the outliers on the higher side to Q3 + (1.5 * IQR) \\\n",
    "                      and those on the lower side to Q1 - (1.5 * IQR)\n"
   ]
  },
  {
   "cell_type": "code",
   "execution_count": 47,
   "id": "f539bbed",
   "metadata": {},
   "outputs": [],
   "source": [
    "for col in train_new.columns[:-1]:\n",
    "    q1 = train_new[col].describe()['25%']\n",
    "    q3 = train_new[col].describe()['75%']\n",
    "    iqr = q3 - q1\n",
    "    high_value = q3 + (1.5 * iqr)\n",
    "    low_value = q1 - (1.5 * iqr)\n",
    "    train_new[col] = np.where(train_new[col] > high_value, high_value, train_new[col])\n",
    "    train_new[col] = np.where(train_new[col] < low_value, low_value, train_new[col])"
   ]
  },
  {
   "cell_type": "code",
   "execution_count": 48,
   "id": "d03ee5b8",
   "metadata": {},
   "outputs": [
    {
     "data": {
      "text/plain": [
       "<AxesSubplot:>"
      ]
     },
     "execution_count": 48,
     "metadata": {},
     "output_type": "execute_result"
    },
    {
     "data": {
      "image/png": "[encoded data removed]",
      "text/plain": [
       "<Figure size 1080x432 with 1 Axes>"
      ]
     },
     "metadata": {
      "needs_background": "light"
     },
     "output_type": "display_data"
    }
   ],
   "source": [
    "plt.figure(figsize=(15,6))\n",
    "train_new.iloc[:,:-1].boxplot(vert=1)"
   ]
  },
  {
   "cell_type": "markdown",
   "id": "cca01121",
   "metadata": {},
   "source": [
    "### Cross Validation and Model Building (KNN)"
   ]
  },
  {
   "cell_type": "code",
   "execution_count": 49,
   "id": "26f85eab",
   "metadata": {},
   "outputs": [],
   "source": [
    "train_new['kfold'] = -1\n",
    "train_new = train_new.sample(frac = 1, random_state = 100).reset_index(drop = True)\n",
    "y = train_new['TravelInsurance'].values"
   ]
  },
  {
   "cell_type": "code",
   "execution_count": 50,
   "id": "90412346",
   "metadata": {},
   "outputs": [
    {
     "data": {
      "text/plain": [
       "2    406\n",
       "1    406\n",
       "0    406\n",
       "4    405\n",
       "3    405\n",
       "Name: kfold, dtype: int64"
      ]
     },
     "execution_count": 50,
     "metadata": {},
     "output_type": "execute_result"
    }
   ],
   "source": [
    "from sklearn import model_selection\n",
    "\n",
    "skf = model_selection.StratifiedKFold(n_splits = 5)\n",
    "for f, (t_ , v_) in enumerate(skf.split(X = train_new , y = y)) :\n",
    "    train_new.loc[v_ , 'kfold'] = f\n",
    "    \n",
    "train_new.kfold.value_counts()"
   ]
  },
  {
   "cell_type": "markdown",
   "id": "bafbf7d9",
   "metadata": {},
   "source": [
    "### Training the model"
   ]
  },
  {
   "cell_type": "code",
   "execution_count": 51,
   "id": "7959bbf0",
   "metadata": {},
   "outputs": [],
   "source": [
    "from sklearn.neighbors import KNeighborsClassifier\n",
    "model = KNeighborsClassifier(n_neighbors=8)"
   ]
  },
  {
   "cell_type": "code",
   "execution_count": 52,
   "id": "f0169771",
   "metadata": {},
   "outputs": [],
   "source": [
    "from sklearn.preprocessing import StandardScaler\n",
    "std = StandardScaler()"
   ]
  },
  {
   "cell_type": "code",
   "execution_count": 53,
   "id": "0a9f5fba",
   "metadata": {},
   "outputs": [
    {
     "name": "stdout",
     "output_type": "stream",
     "text": [
      "K-Fold: 1\n",
      "AUC scores in Train: 0.892443756547229\n",
      "AUC scores in Validation: 0.7632434662331045\n",
      "\n",
      "\n",
      "K-Fold: 2\n",
      "AUC scores in Train: 0.8936159861096118\n",
      "AUC scores in Validation: 0.7969496954548765\n",
      "\n",
      "\n",
      "K-Fold: 3\n",
      "AUC scores in Train: 0.8810232606226652\n",
      "AUC scores in Validation: 0.8337863088160353\n",
      "\n",
      "\n",
      "K-Fold: 4\n",
      "AUC scores in Train: 0.8828264989400668\n",
      "AUC scores in Validation: 0.8343291225674291\n",
      "\n",
      "\n",
      "K-Fold: 5\n",
      "AUC scores in Train: 0.8896606391185242\n",
      "AUC scores in Validation: 0.7910915475784033\n",
      "\n",
      "\n",
      "Mean AUC(Train set): 0.8879140282676193\n",
      "Mean AUC(Validation set): 0.8038800281299696\n"
     ]
    }
   ],
   "source": [
    "fold_num = 1\n",
    "train_auc_scores = []\n",
    "val_auc_scores = []\n",
    "\n",
    "\n",
    "for kfold_idx in train_new['kfold'].value_counts().index:\n",
    "    print(f\"K-Fold: {fold_num}\")\n",
    "    \n",
    "    X_train = train_new[train_new['kfold'] != kfold_idx].iloc[:, :-2].values\n",
    "    X_train = std.fit_transform(X_train)\n",
    "    y_train = train_new[train_new['kfold'] != kfold_idx].iloc[:, -2].values\n",
    "    \n",
    "    X_val = train_new[train_new['kfold'] == kfold_idx].iloc[:, :-2].values\n",
    "    X_val = std.fit_transform(X_val)\n",
    "    y_val = train_new[train_new['kfold'] == kfold_idx].iloc[:, -2].values\n",
    "    \n",
    "    model.fit(X_train, y_train)\n",
    "    preds_train = model.predict_proba(X_train)[:,1]\n",
    "    preds_val = model.predict_proba(X_val)[:,1]\n",
    "    \n",
    "    train_auc_scores.append(roc_auc_score(y_true = y_train, y_score = preds_train))\n",
    "    val_auc_scores.append(roc_auc_score(y_true = y_val, y_score = preds_val))\n",
    "    \n",
    "    print(f\"AUC scores in Train: {train_auc_scores[-1]}\")\n",
    "    print(f\"AUC scores in Validation: {val_auc_scores[-1]}\")\n",
    "    print(\"\\n\")\n",
    "    fold_num = fold_num + 1\n",
    "\n",
    "\n",
    "print(f\"Mean AUC(Train set): {np.mean(train_auc_scores)}\")\n",
    "print(f\"Mean AUC(Validation set): {np.mean(val_auc_scores)}\")"
   ]
  },
  {
   "cell_type": "markdown",
   "id": "1a4fb668",
   "metadata": {},
   "source": [
    "### Predicting the best model"
   ]
  },
  {
   "cell_type": "code",
   "execution_count": 54,
   "id": "303fe2a6",
   "metadata": {},
   "outputs": [],
   "source": [
    "k_fold_idx = 2\n",
    "X_train = train_new[train_new['kfold'] != k_fold_idx].iloc[:, :-2].values\n",
    "X_train = std.fit_transform(X_train)\n",
    "\n",
    "X_val = train_new[train_new['kfold'] == k_fold_idx].iloc[:, :-2].values\n",
    "X_val = std.fit_transform(X_val)\n",
    "\n",
    "y_train = train_new[train_new['kfold'] != k_fold_idx].iloc[:, -2].values\n",
    "\n",
    "y_val = train_new[train_new['kfold'] == k_fold_idx].iloc[:, -2].values"
   ]
  },
  {
   "cell_type": "code",
   "execution_count": 55,
   "id": "a05d4e05",
   "metadata": {},
   "outputs": [
    {
     "data": {
      "text/plain": [
       "KNeighborsClassifier(n_neighbors=8)"
      ]
     },
     "execution_count": 55,
     "metadata": {},
     "output_type": "execute_result"
    }
   ],
   "source": [
    "from sklearn.neighbors import KNeighborsClassifier\n",
    "model = KNeighborsClassifier(n_neighbors=8)\n",
    "model.fit(X_train, y_train)"
   ]
  },
  {
   "cell_type": "markdown",
   "id": "237f6452",
   "metadata": {},
   "source": [
    "### Standardizing and predicting the Test dataset"
   ]
  },
  {
   "cell_type": "code",
   "execution_count": 56,
   "id": "e4234f9f",
   "metadata": {},
   "outputs": [
    {
     "data": {
      "text/html": [
       "<div>\n",
       "<style scoped>\n",
       "    .dataframe tbody tr th:only-of-type {\n",
       "        vertical-align: middle;\n",
       "    }\n",
       "\n",
       "    .dataframe tbody tr th {\n",
       "        vertical-align: top;\n",
       "    }\n",
       "\n",
       "    .dataframe thead th {\n",
       "        text-align: right;\n",
       "    }\n",
       "</style>\n",
       "<table border=\"1\" class=\"dataframe\">\n",
       "  <thead>\n",
       "    <tr style=\"text-align: right;\">\n",
       "      <th></th>\n",
       "      <th>id</th>\n",
       "      <th>Age</th>\n",
       "      <th>Employment Type</th>\n",
       "      <th>GraduateOrNot</th>\n",
       "      <th>AnnualIncome</th>\n",
       "      <th>FamilyMembers</th>\n",
       "      <th>ChronicDiseases</th>\n",
       "      <th>FrequentFlyer</th>\n",
       "      <th>EverTravelledAbroad</th>\n",
       "    </tr>\n",
       "  </thead>\n",
       "  <tbody>\n",
       "    <tr>\n",
       "      <th>0</th>\n",
       "      <td>0</td>\n",
       "      <td>27</td>\n",
       "      <td>Government Sector</td>\n",
       "      <td>Yes</td>\n",
       "      <td>500000</td>\n",
       "      <td>5</td>\n",
       "      <td>0</td>\n",
       "      <td>No</td>\n",
       "      <td>No</td>\n",
       "    </tr>\n",
       "    <tr>\n",
       "      <th>1</th>\n",
       "      <td>9</td>\n",
       "      <td>34</td>\n",
       "      <td>Private Sector/Self Employed</td>\n",
       "      <td>Yes</td>\n",
       "      <td>1050000</td>\n",
       "      <td>4</td>\n",
       "      <td>0</td>\n",
       "      <td>No</td>\n",
       "      <td>No</td>\n",
       "    </tr>\n",
       "    <tr>\n",
       "      <th>2</th>\n",
       "      <td>14</td>\n",
       "      <td>29</td>\n",
       "      <td>Private Sector/Self Employed</td>\n",
       "      <td>Yes</td>\n",
       "      <td>1200000</td>\n",
       "      <td>4</td>\n",
       "      <td>0</td>\n",
       "      <td>No</td>\n",
       "      <td>No</td>\n",
       "    </tr>\n",
       "    <tr>\n",
       "      <th>3</th>\n",
       "      <td>31</td>\n",
       "      <td>25</td>\n",
       "      <td>Private Sector/Self Employed</td>\n",
       "      <td>Yes</td>\n",
       "      <td>1400000</td>\n",
       "      <td>7</td>\n",
       "      <td>0</td>\n",
       "      <td>No</td>\n",
       "      <td>Yes</td>\n",
       "    </tr>\n",
       "    <tr>\n",
       "      <th>4</th>\n",
       "      <td>41</td>\n",
       "      <td>31</td>\n",
       "      <td>Private Sector/Self Employed</td>\n",
       "      <td>Yes</td>\n",
       "      <td>1400000</td>\n",
       "      <td>6</td>\n",
       "      <td>0</td>\n",
       "      <td>No</td>\n",
       "      <td>Yes</td>\n",
       "    </tr>\n",
       "  </tbody>\n",
       "</table>\n",
       "</div>"
      ],
      "text/plain": [
       "   id  Age               Employment Type GraduateOrNot  AnnualIncome  \\\n",
       "0   0   27             Government Sector           Yes        500000   \n",
       "1   9   34  Private Sector/Self Employed           Yes       1050000   \n",
       "2  14   29  Private Sector/Self Employed           Yes       1200000   \n",
       "3  31   25  Private Sector/Self Employed           Yes       1400000   \n",
       "4  41   31  Private Sector/Self Employed           Yes       1400000   \n",
       "\n",
       "   FamilyMembers  ChronicDiseases FrequentFlyer EverTravelledAbroad  \n",
       "0              5                0            No                  No  \n",
       "1              4                0            No                  No  \n",
       "2              4                0            No                  No  \n",
       "3              7                0            No                 Yes  \n",
       "4              6                0            No                 Yes  "
      ]
     },
     "execution_count": 56,
     "metadata": {},
     "output_type": "execute_result"
    }
   ],
   "source": [
    "test_df.head()"
   ]
  },
  {
   "cell_type": "code",
   "execution_count": 57,
   "id": "fedcb710",
   "metadata": {},
   "outputs": [
    {
     "data": {
      "text/plain": [
       "id                     0\n",
       "Age                    0\n",
       "Employment Type        0\n",
       "GraduateOrNot          0\n",
       "AnnualIncome           0\n",
       "FamilyMembers          0\n",
       "ChronicDiseases        0\n",
       "FrequentFlyer          0\n",
       "EverTravelledAbroad    0\n",
       "dtype: int64"
      ]
     },
     "execution_count": 57,
     "metadata": {},
     "output_type": "execute_result"
    }
   ],
   "source": [
    "#Data cleaning\n",
    "test_df.isnull().sum()"
   ]
  },
  {
   "cell_type": "code",
   "execution_count": 58,
   "id": "ee10823e",
   "metadata": {},
   "outputs": [
    {
     "data": {
      "text/html": [
       "<div>\n",
       "<style scoped>\n",
       "    .dataframe tbody tr th:only-of-type {\n",
       "        vertical-align: middle;\n",
       "    }\n",
       "\n",
       "    .dataframe tbody tr th {\n",
       "        vertical-align: top;\n",
       "    }\n",
       "\n",
       "    .dataframe thead th {\n",
       "        text-align: right;\n",
       "    }\n",
       "</style>\n",
       "<table border=\"1\" class=\"dataframe\">\n",
       "  <thead>\n",
       "    <tr style=\"text-align: right;\">\n",
       "      <th></th>\n",
       "      <th>id</th>\n",
       "      <th>Age</th>\n",
       "      <th>Employment Type</th>\n",
       "      <th>GraduateOrNot</th>\n",
       "      <th>AnnualIncome</th>\n",
       "      <th>FamilyMembers</th>\n",
       "      <th>ChronicDiseases</th>\n",
       "      <th>FrequentFlyer</th>\n",
       "      <th>EverTravelledAbroad</th>\n",
       "    </tr>\n",
       "  </thead>\n",
       "  <tbody>\n",
       "    <tr>\n",
       "      <th>0</th>\n",
       "      <td>0</td>\n",
       "      <td>27</td>\n",
       "      <td>0</td>\n",
       "      <td>1</td>\n",
       "      <td>500000</td>\n",
       "      <td>5</td>\n",
       "      <td>0</td>\n",
       "      <td>0</td>\n",
       "      <td>0</td>\n",
       "    </tr>\n",
       "    <tr>\n",
       "      <th>1</th>\n",
       "      <td>9</td>\n",
       "      <td>34</td>\n",
       "      <td>1</td>\n",
       "      <td>1</td>\n",
       "      <td>1050000</td>\n",
       "      <td>4</td>\n",
       "      <td>0</td>\n",
       "      <td>0</td>\n",
       "      <td>0</td>\n",
       "    </tr>\n",
       "    <tr>\n",
       "      <th>2</th>\n",
       "      <td>14</td>\n",
       "      <td>29</td>\n",
       "      <td>1</td>\n",
       "      <td>1</td>\n",
       "      <td>1200000</td>\n",
       "      <td>4</td>\n",
       "      <td>0</td>\n",
       "      <td>0</td>\n",
       "      <td>0</td>\n",
       "    </tr>\n",
       "    <tr>\n",
       "      <th>3</th>\n",
       "      <td>31</td>\n",
       "      <td>25</td>\n",
       "      <td>1</td>\n",
       "      <td>1</td>\n",
       "      <td>1400000</td>\n",
       "      <td>7</td>\n",
       "      <td>0</td>\n",
       "      <td>0</td>\n",
       "      <td>1</td>\n",
       "    </tr>\n",
       "    <tr>\n",
       "      <th>4</th>\n",
       "      <td>41</td>\n",
       "      <td>31</td>\n",
       "      <td>1</td>\n",
       "      <td>1</td>\n",
       "      <td>1400000</td>\n",
       "      <td>6</td>\n",
       "      <td>0</td>\n",
       "      <td>0</td>\n",
       "      <td>1</td>\n",
       "    </tr>\n",
       "  </tbody>\n",
       "</table>\n",
       "</div>"
      ],
      "text/plain": [
       "   id  Age  Employment Type  GraduateOrNot  AnnualIncome  FamilyMembers  \\\n",
       "0   0   27                0              1        500000              5   \n",
       "1   9   34                1              1       1050000              4   \n",
       "2  14   29                1              1       1200000              4   \n",
       "3  31   25                1              1       1400000              7   \n",
       "4  41   31                1              1       1400000              6   \n",
       "\n",
       "   ChronicDiseases  FrequentFlyer  EverTravelledAbroad  \n",
       "0                0              0                    0  \n",
       "1                0              0                    0  \n",
       "2                0              0                    0  \n",
       "3                0              0                    1  \n",
       "4                0              0                    1  "
      ]
     },
     "execution_count": 58,
     "metadata": {},
     "output_type": "execute_result"
    }
   ],
   "source": [
    "#Encoding the categorical values\n",
    "employ_num = {'Government Sector': 0, 'Private Sector/Self Employed': 1}\n",
    "grad_num = {'No': 0, 'Yes': 1}\n",
    "flyer_num = {'No': 0, 'Yes': 1}\n",
    "abroad_num = {'No': 0, 'Yes': 1}\n",
    "\n",
    "test_df['Employment Type'] = test_df['Employment Type'].map(employ_num)\n",
    "test_df['GraduateOrNot'] = test_df['GraduateOrNot'].map(grad_num)\n",
    "test_df['FrequentFlyer'] = test_df['FrequentFlyer'].map(flyer_num)\n",
    "test_df['EverTravelledAbroad'] = test_df['EverTravelledAbroad'].map(abroad_num)\n",
    "\n",
    "test_df.head()"
   ]
  },
  {
   "cell_type": "code",
   "execution_count": 59,
   "id": "63e31e3f",
   "metadata": {},
   "outputs": [
    {
     "name": "stdout",
     "output_type": "stream",
     "text": [
      "<class 'pandas.core.frame.DataFrame'>\n",
      "RangeIndex: 397 entries, 0 to 396\n",
      "Data columns (total 9 columns):\n",
      " #   Column               Non-Null Count  Dtype\n",
      "---  ------               --------------  -----\n",
      " 0   id                   397 non-null    int64\n",
      " 1   Age                  397 non-null    int64\n",
      " 2   Employment Type      397 non-null    int64\n",
      " 3   GraduateOrNot        397 non-null    int64\n",
      " 4   AnnualIncome         397 non-null    int64\n",
      " 5   FamilyMembers        397 non-null    int64\n",
      " 6   ChronicDiseases      397 non-null    int64\n",
      " 7   FrequentFlyer        397 non-null    int64\n",
      " 8   EverTravelledAbroad  397 non-null    int64\n",
      "dtypes: int64(9)\n",
      "memory usage: 28.0 KB\n"
     ]
    }
   ],
   "source": [
    "test_df.info()"
   ]
  },
  {
   "cell_type": "code",
   "execution_count": 60,
   "id": "e3190da4",
   "metadata": {},
   "outputs": [],
   "source": [
    "X_test = test_df.iloc[:,1:]\n",
    "X_test = std.fit_transform(X_test)"
   ]
  },
  {
   "cell_type": "code",
   "execution_count": 61,
   "id": "bf95ca70",
   "metadata": {},
   "outputs": [],
   "source": [
    "pred = model.predict_proba(X_test)[:,1]"
   ]
  },
  {
   "cell_type": "markdown",
   "id": "51a9804f",
   "metadata": {},
   "source": [
    "### Converting into CSV file"
   ]
  },
  {
   "cell_type": "code",
   "execution_count": 62,
   "id": "53a59470",
   "metadata": {},
   "outputs": [],
   "source": [
    "sub = pd.read_csv('test.csv')\n",
    "cols =['Age','Employment Type',\n",
    "       'GraduateOrNot','AnnualIncome',\n",
    "       'FamilyMembers','ChronicDiseases',\n",
    "       'FrequentFlyer','EverTravelledAbroad']\n",
    "\n",
    "sub = sub.drop(columns=cols, axis=1)\n",
    "sub['TravelInsurance'] = pred"
   ]
  },
  {
   "cell_type": "code",
   "execution_count": 63,
   "id": "15b868a7",
   "metadata": {},
   "outputs": [],
   "source": [
    "sub.to_csv('J072_ML_M2-Test_5_AUC.csv', index=False)"
   ]
  },
  {
   "cell_type": "code",
   "execution_count": null,
   "id": "eb3fcff0",
   "metadata": {},
   "outputs": [],
   "source": []
  }
 ],
 "metadata": {
  "kernelspec": {
   "display_name": "Python 3",
   "language": "python",
   "name": "python3"
  },
  "language_info": {
   "codemirror_mode": {
    "name": "ipython",
    "version": 3
   },
   "file_extension": ".py",
   "mimetype": "text/x-python",
   "name": "python",
   "nbconvert_exporter": "python",
   "pygments_lexer": "ipython3",
   "version": "3.8.0"
  }
 },
 "nbformat": 4,
 "nbformat_minor": 5
}
