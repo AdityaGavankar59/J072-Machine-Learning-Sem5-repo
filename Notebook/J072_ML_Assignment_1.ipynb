{
 "cells": [
  {
   "cell_type": "markdown",
   "id": "dfebe34c",
   "metadata": {},
   "source": [
    "# Machine Learning Assignment\n",
    "### Aditya Gavankar (J072)\n",
    "\n",
    "## Exp 1 :- Hackerrank 30 days of Python code\n",
    "\n"
   ]
  },
  {
   "cell_type": "markdown",
   "id": "114587f5",
   "metadata": {},
   "source": [
    "\n",
    "### Day 0: Hello World"
   ]
  },
  {
   "cell_type": "code",
   "execution_count": 1,
   "id": "b49b78f1",
   "metadata": {},
   "outputs": [
    {
     "name": "stdout",
     "output_type": "stream",
     "text": [
      "Hello, World!\n",
      "Welcome to the Hackerrank World!!\n",
      "Welcome to the Hackerrank World!!\n"
     ]
    }
   ],
   "source": [
    "print('Hello, World!')\n",
    "\n",
    "inputString = input()\n",
    "print(inputString)"
   ]
  },
  {
   "cell_type": "markdown",
   "id": "7503cd58",
   "metadata": {},
   "source": [
    "### Day 1: Data Types"
   ]
  },
  {
   "cell_type": "code",
   "execution_count": 4,
   "id": "51950693",
   "metadata": {},
   "outputs": [
    {
     "name": "stdout",
     "output_type": "stream",
     "text": [
      "Enter integer:5\n",
      "Enter double:7.5\n",
      "Enter string:Photo\n",
      "15\n",
      "16.0\n",
      "Awesome Photo\n"
     ]
    }
   ],
   "source": [
    "i, d, s = 10, 8.5, \"Awesome \"\n",
    "\n",
    "j = int(input(\"Enter integer:\"))\n",
    "e = float(input(\"Enter double:\"))\n",
    "t = input(\"Enter string:\")\n",
    "\n",
    "print(i + j)\n",
    "print(d + e)\n",
    "print(s + t)"
   ]
  },
  {
   "cell_type": "markdown",
   "id": "bae1f136",
   "metadata": {},
   "source": [
    "### Day 2: Operators"
   ]
  },
  {
   "cell_type": "code",
   "execution_count": 6,
   "id": "e80c4e7d",
   "metadata": {},
   "outputs": [
    {
     "name": "stdout",
     "output_type": "stream",
     "text": [
      "Meal price:5\n",
      "Tip:7\n",
      "Taxes:9\n",
      "The total meal cost is 6 dollars.\n"
     ]
    }
   ],
   "source": [
    "mealCost = float(input(\"Meal price: \"))\n",
    "tip = int(input(\"Tip: \"))\n",
    "tax = int(input(\"Taxes: \"))\n",
    "\n",
    "tip = tip * mealCost / 100;\n",
    "tax = tax * mealCost / 100;\n",
    "totalcost = mealCost + tip + tax;\n",
    "\n",
    "print (\"The total meal cost is %s dollars.\" %str(int(round(totalcost, 0))))"
   ]
  },
  {
   "cell_type": "markdown",
   "id": "696be86e",
   "metadata": {},
   "source": [
    "### Day 3: Conditionals"
   ]
  },
  {
   "cell_type": "code",
   "execution_count": 7,
   "id": "042d8b38",
   "metadata": {},
   "outputs": [
    {
     "name": "stdout",
     "output_type": "stream",
     "text": [
      "7\n",
      "Weird\n"
     ]
    }
   ],
   "source": [
    "import sys\n",
    "\n",
    "n = int(input().strip())\n",
    "\n",
    "if n%2==1:\n",
    "    ans = \"Weird\"\n",
    "\n",
    "elif n>20:\n",
    "    ans = \"Not Weird\"\n",
    "\n",
    "elif n>=6:\n",
    "    ans = \"Weird\"\n",
    "\n",
    "else:\n",
    "    ans = \"Not Weird\"\n",
    "\n",
    "print(ans)"
   ]
  },
  {
   "cell_type": "markdown",
   "id": "7e2f6c8f",
   "metadata": {},
   "source": [
    "### Day 4: Classes vs Inheritance"
   ]
  },
  {
   "cell_type": "code",
   "execution_count": 13,
   "id": "62ad9e8a",
   "metadata": {},
   "outputs": [
    {
     "name": "stdout",
     "output_type": "stream",
     "text": [
      "Enter Age: 9\n",
      "You are young.\n",
      "Enter Age: 15\n",
      "You are a teenager.\n",
      "Enter Age: 19\n",
      "You are old.\n"
     ]
    }
   ],
   "source": [
    "class Person:\n",
    "    def __init__(self, initialAge):\n",
    "        if(initialAge > 0):\n",
    "            self.age = initialAge\n",
    "        else:\n",
    "            print(\"Age is not valid, setting age to 0.\")\n",
    "            self.age = 0\n",
    "\n",
    "    def amIOld(self):\n",
    "        if self.age >= 18:\n",
    "            print(\"You are old.\")\n",
    "        elif self.age >= 13:\n",
    "            print(\"You are a teenager.\")\n",
    "        else: # age < 13\n",
    "            print(\"You are young.\")\n",
    "\n",
    "    def yearPasses(self):\n",
    "        self.age += 1\n",
    "        \n",
    "    \n",
    "for t in range(3):\n",
    "    initialAge=int(input('Enter Age: '))\n",
    "    person=Person(initialAge = initialAge)\n",
    "    person.amIOld()\n",
    "    person.yearPasses()"
   ]
  },
  {
   "cell_type": "markdown",
   "id": "792ad640",
   "metadata": {},
   "source": [
    "### Day 5: Loops"
   ]
  },
  {
   "cell_type": "code",
   "execution_count": 14,
   "id": "ce79be93",
   "metadata": {},
   "outputs": [
    {
     "name": "stdout",
     "output_type": "stream",
     "text": [
      "10\n",
      "10 x 1 = 10\n",
      "10 x 2 = 20\n",
      "10 x 3 = 30\n",
      "10 x 4 = 40\n",
      "10 x 5 = 50\n",
      "10 x 6 = 60\n",
      "10 x 7 = 70\n",
      "10 x 8 = 80\n",
      "10 x 9 = 90\n",
      "10 x 10 = 100\n"
     ]
    }
   ],
   "source": [
    "import sys\n",
    "\n",
    "\n",
    "N = int(input().strip())\n",
    "for i in range(1, 11):\n",
    "    print(str(N) +\" x \" + str(i) + \" = \" + str(N*i))"
   ]
  },
  {
   "cell_type": "markdown",
   "id": "0b9dc668",
   "metadata": {},
   "source": [
    "### Day 6: Review"
   ]
  },
  {
   "cell_type": "code",
   "execution_count": 3,
   "id": "808702bc",
   "metadata": {},
   "outputs": [
    {
     "name": "stdout",
     "output_type": "stream",
     "text": [
      "1\n",
      "Satoshi\n",
      "Stsi aoh\n"
     ]
    }
   ],
   "source": [
    "import sys\n",
    "\n",
    "def printEvenIndexChar(s):\n",
    "    l = len(s)\n",
    "    output = \"\"\n",
    "    for i in range(0, l, 2):\n",
    "        output += s[i]\n",
    "    return output\n",
    "\n",
    "def printOddIndexChar(s):\n",
    "    l = len(s)\n",
    "    output = \"\"\n",
    "    for i in range(1, l, 2):\n",
    "        output += s[i]\n",
    "    return output\n",
    "\n",
    "t = int(input())\n",
    "for a0 in range(0,t):\n",
    "    s = input()\n",
    "    print(printEvenIndexChar(s) + \" \" + printOddIndexChar(s))"
   ]
  },
  {
   "cell_type": "markdown",
   "id": "300177e2",
   "metadata": {},
   "source": [
    "### Day 7: Arrays"
   ]
  },
  {
   "cell_type": "code",
   "execution_count": 7,
   "id": "05433639",
   "metadata": {},
   "outputs": [
    {
     "name": "stdout",
     "output_type": "stream",
     "text": [
      "3\n",
      "8 5\n",
      "5 8 \n"
     ]
    }
   ],
   "source": [
    "import sys\n",
    "\n",
    "\n",
    "n = int(input().strip())\n",
    "arr = list(map(int,input().strip().split(' ')))\n",
    "ans = \"\"\n",
    "for i in range(len(arr)-1 , -1, -1):\n",
    "    ans += str(arr[i]) + \" \"\n",
    "\n",
    "print(ans)"
   ]
  },
  {
   "cell_type": "markdown",
   "id": "0b52ac28",
   "metadata": {},
   "source": [
    "### Day 8: Maps and Dictionaries"
   ]
  },
  {
   "cell_type": "code",
   "execution_count": 1,
   "id": "c36b03c3",
   "metadata": {},
   "outputs": [
    {
     "name": "stdout",
     "output_type": "stream",
     "text": [
      "Aditya\n",
      "1\n",
      "Amit\n",
      "2\n",
      "{'Aditya': [1], 'Amit': [2]}\n",
      "Aditya\n",
      "[1]\n"
     ]
    }
   ],
   "source": [
    "dict={}\n",
    "\n",
    "for i in range(2):\n",
    "    name=input()\n",
    "    phone=int(input())\n",
    "    dict[name]=[]\n",
    "    dict[name].append(phone)\n",
    "    \n",
    "print(dict)\n",
    "key_list=list(dict.keys())\n",
    "val_list=list(dict.values())\n",
    "position=key_list.index(input())\n",
    "print(val_list[position])"
   ]
  },
  {
   "cell_type": "markdown",
   "id": "08efc3fb",
   "metadata": {},
   "source": [
    "### Day 9: Recursion"
   ]
  },
  {
   "cell_type": "code",
   "execution_count": 20,
   "id": "11369013",
   "metadata": {},
   "outputs": [
    {
     "name": "stdout",
     "output_type": "stream",
     "text": [
      "10\n",
      "3628800\n"
     ]
    }
   ],
   "source": [
    "def factorial(n):\n",
    "    if n <= 1:\n",
    "        return 1\n",
    "    else:\n",
    "        return n * factorial(n - 1)\n",
    "\n",
    "n = int(input())\n",
    "print(factorial(n))"
   ]
  },
  {
   "cell_type": "markdown",
   "id": "f7b3f0e3",
   "metadata": {},
   "source": [
    "### Day 10: Binary Numbers"
   ]
  },
  {
   "cell_type": "code",
   "execution_count": 2,
   "id": "306d3e3d",
   "metadata": {},
   "outputs": [
    {
     "name": "stdout",
     "output_type": "stream",
     "text": [
      "1010\n",
      "6\n"
     ]
    }
   ],
   "source": [
    "import sys\n",
    "\n",
    "def max(a, b):\n",
    "    return a if a > b else b\n",
    "\n",
    "n = int(input().strip())\n",
    "\n",
    "max_num = 0\n",
    "count = 0\n",
    "\n",
    "while n:\n",
    "    while n&1:\n",
    "        count += 1\n",
    "        n >>= 1\n",
    "    max_num = max(count, max_num)\n",
    "    if not n&1:\n",
    "        count = 0\n",
    "        n >>= 1\n",
    "\n",
    "print(max_num)"
   ]
  },
  {
   "cell_type": "markdown",
   "id": "883f7ad9",
   "metadata": {},
   "source": [
    "### Day 11: 2D Arrays/Matrix"
   ]
  },
  {
   "cell_type": "code",
   "execution_count": 8,
   "id": "2fd1322d",
   "metadata": {},
   "outputs": [
    {
     "name": "stdout",
     "output_type": "stream",
     "text": [
      "1 2 3 4 5 6\n",
      "7 8 9 1 2 3\n",
      "4 5 6 7 8 9\n",
      "9 8 7 6 5 4\n",
      "3 2 1 9 8 7\n",
      "6 5 4 3 2 1\n",
      "53\n"
     ]
    }
   ],
   "source": [
    "import sys\n",
    "\n",
    "\n",
    "arr = []\n",
    "for arr_i in range(6):\n",
    "   arr_temp = list(map(int, input().strip().split(' ')))\n",
    "   arr.append(arr_temp)\n",
    "max = 0\n",
    "\n",
    "for i in range(0,4):\n",
    "    for j in range(0,4):\n",
    "        sum = 0\n",
    "        sum= arr[i][j] + arr[i][j+1] + arr[i][j+2] + arr[i+1][j+1] + arr[i+2][j] + arr[i+2][j+1] + arr[i+2][j+2]\n",
    "        if i == 0 and j == 0:\n",
    "            max = sum\n",
    "        if sum > max:\n",
    "            max = sum\n",
    "\n",
    "print(max)"
   ]
  },
  {
   "cell_type": "markdown",
   "id": "8dc01f42",
   "metadata": {},
   "source": [
    "### Day 12: Inheritance"
   ]
  },
  {
   "cell_type": "code",
   "execution_count": 10,
   "id": "20d87bbf",
   "metadata": {},
   "outputs": [
    {
     "name": "stdout",
     "output_type": "stream",
     "text": [
      "Aditya Gavankar 910235\n",
      "2\n",
      "75 87\n",
      "Name: Gavankar, Aditya\n",
      "ID: 910235\n",
      "Grade: E\n"
     ]
    }
   ],
   "source": [
    "class Person:\n",
    "    def __init__(self, firstName, lastName, idNumber):\n",
    "        self.firstName = firstName\n",
    "        self.lastName = lastName\n",
    "        self.idNumber = idNumber\n",
    "        \n",
    "    def printPerson(self):\n",
    "        print(\"Name:\", self.lastName + \",\", self.firstName)\n",
    "        print(\"ID:\", self.idNumber)\n",
    "        \n",
    "    \n",
    "class Student(Person):\n",
    "    def __init__(self, fName, lName, sId, scores):\n",
    "        super().__init__(fName, lName, sId)\n",
    "        self.scores = scores\n",
    "\n",
    "    def calculate(self):\n",
    "        avg = 0.0\n",
    "        for score in self.scores:\n",
    "            avg += score\n",
    "\n",
    "        avg = avg/len(self.scores)\n",
    "        if avg < 40:\n",
    "            return 'T'\n",
    "        elif avg < 55:\n",
    "            return 'D'\n",
    "        elif avg < 70:\n",
    "            return 'P'\n",
    "        elif avg < 80:\n",
    "            return 'A'\n",
    "        elif avg < 90:\n",
    "            return 'E'\n",
    "        else:\n",
    "            return 'O'\n",
    "        \n",
    "    \n",
    "line = input().split()\n",
    "firstName = line[0]\n",
    "lastName = line[1]\n",
    "idNum = line[2]\n",
    "numScores = int(input())# not needed for Python\n",
    "scores = list(map(int,input().split()))\n",
    "s = Student(firstName,lastName,idNum,scores)\n",
    "s.printPerson()\n",
    "print(\"Grade:\",s.calculate())"
   ]
  },
  {
   "cell_type": "markdown",
   "id": "eb1b979b",
   "metadata": {},
   "source": [
    "### Day 13: Abstract Classes"
   ]
  },
  {
   "cell_type": "code",
   "execution_count": 4,
   "id": "29e38a10",
   "metadata": {},
   "outputs": [
    {
     "name": "stdout",
     "output_type": "stream",
     "text": [
      "Title: The Diary Of A Young Girl\n",
      "Author: Anne Frank\n",
      "Price: Rs 1000\n"
     ]
    }
   ],
   "source": [
    "class Book:\n",
    "    def __init__(self, title, author):\n",
    "        self.title = title\n",
    "        self.author = author\n",
    "\n",
    "class MyBook(Book):\n",
    "    def __init__(self, title, author, price):\n",
    "        Book.__init__(self, title, author)\n",
    "        self.price = price\n",
    "        \n",
    "    def display(self):\n",
    "        print(\"Title: %s\\nAuthor: %s\\nPrice: Rs %s\" %(self.title, self.author, self.price))\n",
    "        \n",
    "    \n",
    "my_book1 = MyBook('The Diary Of A Young Girl','Anne Frank',1000)\n",
    "my_book1.display()"
   ]
  },
  {
   "cell_type": "markdown",
   "id": "f338319f",
   "metadata": {},
   "source": [
    "### Day 14: Scope"
   ]
  },
  {
   "cell_type": "code",
   "execution_count": 5,
   "id": "667cd593",
   "metadata": {},
   "outputs": [
    {
     "data": {
      "text/plain": [
       "8"
      ]
     },
     "execution_count": 5,
     "metadata": {},
     "output_type": "execute_result"
    }
   ],
   "source": [
    "class Difference:\n",
    "    def __init__(self,elements):\n",
    "        self.elements = elements\n",
    "        \n",
    "    def maximum_difference(self):\n",
    "        return max(self.elements)-min(self.elements)\n",
    "    \n",
    "diff=Difference([1, 2, 3, 4, 5, 6, 7, 8, 9])\n",
    "diff.maximum_difference()            "
   ]
  },
  {
   "cell_type": "markdown",
   "id": "1b1629cf",
   "metadata": {},
   "source": [
    "### Day 15: Linked Lists"
   ]
  },
  {
   "cell_type": "code",
   "execution_count": 7,
   "id": "b184873f",
   "metadata": {},
   "outputs": [
    {
     "name": "stdout",
     "output_type": "stream",
     "text": [
      "5\n",
      "4\n",
      "3\n",
      "2\n",
      "1\n",
      "0\n",
      "4 3 2 1 0 "
     ]
    }
   ],
   "source": [
    "class Node:\n",
    "    def __init__(self, data):\n",
    "        self.data = data\n",
    "        self.next = None\n",
    "        \n",
    "    \n",
    "class Solution:\n",
    "    def display(self, head):\n",
    "        current = head\n",
    "        while current:\n",
    "            print(current.data,end=' ')\n",
    "            current=current.next\n",
    "\n",
    "    def insert(self, head, data): \n",
    "        if head is None:\n",
    "            head = Node(data)\n",
    "        elif head.next is None:\n",
    "            head.next = Node(data)\n",
    "        else: \n",
    "            self.insert(head.next, data)\n",
    "        return head\n",
    "    \n",
    "mylist = Solution()\n",
    "T = int(input())\n",
    "head = None\n",
    "for i in range(T):\n",
    "    data = int(input())\n",
    "    head = mylist.insert(head, data)\n",
    "    \n",
    "mylist.display(head)"
   ]
  },
  {
   "cell_type": "markdown",
   "id": "3bf0ae5e",
   "metadata": {},
   "source": [
    "### Day 16: Handling Exceptions"
   ]
  },
  {
   "cell_type": "code",
   "execution_count": 29,
   "id": "24550e46",
   "metadata": {},
   "outputs": [
    {
     "name": "stdout",
     "output_type": "stream",
     "text": [
      "Broken\n",
      "Bad String\n"
     ]
    }
   ],
   "source": [
    "import sys\n",
    "\n",
    "\n",
    "S = input().strip()\n",
    "try: \n",
    "    r = int(S)\n",
    "    print(r)\n",
    "except ValueError:\n",
    "    print(\"Bad String\")"
   ]
  },
  {
   "cell_type": "markdown",
   "id": "c2956a52",
   "metadata": {},
   "source": [
    "### Day 17: Throwing Exceptions"
   ]
  },
  {
   "cell_type": "code",
   "execution_count": 17,
   "id": "b59e71c6",
   "metadata": {},
   "outputs": [
    {
     "name": "stdout",
     "output_type": "stream",
     "text": [
      "3\n",
      "2 6\n",
      "64\n",
      "-1 3\n",
      "n and p should be non-negative\n",
      "3 4\n",
      "81\n"
     ]
    }
   ],
   "source": [
    "class Calculator(Exception):\n",
    "    def power(self, n, p):\n",
    "        if (n < 0 or p < 0):\n",
    "            raise Calculator(\"n and p should be non-negative\")\n",
    "        else:\n",
    "            return pow(n, p)\n",
    "            \n",
    "myCalculator = Calculator()\n",
    "T = int(input())\n",
    "for i in range(T):\n",
    "    n, p=map(int, input().split())\n",
    "    try:\n",
    "        ans = myCalculator.power(n, p)\n",
    "        print(ans)\n",
    "    except Exception as e:\n",
    "        print(e)"
   ]
  },
  {
   "cell_type": "markdown",
   "id": "5f7c5f8b",
   "metadata": {},
   "source": [
    "### Day 18: Stacks and Queues"
   ]
  },
  {
   "cell_type": "code",
   "execution_count": 20,
   "id": "3672dd3e",
   "metadata": {},
   "outputs": [
    {
     "name": "stdout",
     "output_type": "stream",
     "text": [
      "madam\n",
      "The word, madam, is a palindrome.\n"
     ]
    }
   ],
   "source": [
    "import sys\n",
    "from collections import deque\n",
    "\n",
    "class Solution:\n",
    "    def __init__(self):\n",
    "        self.stack = deque()\n",
    "        self.queue = deque()\n",
    "    \n",
    "    def pushCharacter(self, char):\n",
    "        self.stack.append(char)\n",
    "    \n",
    "    def popCharacter(self):\n",
    "        return self.stack.pop()\n",
    "    \n",
    "    def enqueueCharacter(self, char):\n",
    "        self.queue.append(char)\n",
    "    \n",
    "    def dequeueCharacter(self):\n",
    "        return self.queue.popleft()\n",
    "    \n",
    "s = input()\n",
    "obj = Solution()\n",
    "\n",
    "l = len(s)\n",
    "# push/enqueue all the characters of string s to stack\n",
    "for i in range(l):\n",
    "    obj.pushCharacter(s[i])\n",
    "    obj.enqueueCharacter(s[i])\n",
    "    \n",
    "isPalindrome=True\n",
    "'''\n",
    "pop the top character from stack\n",
    "dequeue the first character from queue\n",
    "compare both the characters\n",
    "'''\n",
    "for i in range(l // 2):\n",
    "    if obj.popCharacter() != obj.dequeueCharacter():\n",
    "        isPalindrome = False\n",
    "        break\n",
    "        \n",
    "if isPalindrome:\n",
    "    print(\"The word, \"+s+\", is a palindrome.\")\n",
    "else:\n",
    "    print(\"The word, \"+s+\", is not a palindrome.\")"
   ]
  },
  {
   "cell_type": "markdown",
   "id": "1e9bf8cf",
   "metadata": {},
   "source": [
    "### Day 19: Interfaces"
   ]
  },
  {
   "cell_type": "code",
   "execution_count": 18,
   "id": "fa47a239",
   "metadata": {},
   "outputs": [
    {
     "name": "stdout",
     "output_type": "stream",
     "text": [
      "10\n",
      "18\n"
     ]
    }
   ],
   "source": [
    "class AdvancedArithmetic(object):\n",
    "    def divisorSum(n):\n",
    "        raise NotImplementedError\n",
    "\n",
    "class Calculator(AdvancedArithmetic):\n",
    "    def divisorSum(self, n):\n",
    "        s = 0\n",
    "        for i in range(1, n+1):\n",
    "            if (n%i == 0):\n",
    "                s += i\n",
    "        return s\n",
    "    \n",
    "n = int(input())\n",
    "my_calculator = Calculator()\n",
    "s = my_calculator.divisorSum(n)\n",
    "print(s)"
   ]
  },
  {
   "cell_type": "markdown",
   "id": "09e6d73e",
   "metadata": {},
   "source": [
    "### Day 20: Sorting"
   ]
  },
  {
   "cell_type": "code",
   "execution_count": 19,
   "id": "96ea0fce",
   "metadata": {},
   "outputs": [
    {
     "name": "stdout",
     "output_type": "stream",
     "text": [
      "5\n",
      "7 10 3 5 1\n",
      "Array is sorted in 8 swaps.\n",
      "First Element: 1\n",
      "Last Element: 10\n"
     ]
    }
   ],
   "source": [
    "import sys\n",
    "\n",
    "\n",
    "n = int(input().strip())\n",
    "a = list(map(int, input().strip().split(' ')))\n",
    "numberOfSwaps = 0\n",
    "for i in range(0, n):\n",
    "    for j in range(0, n - 1):\n",
    "        if (a[j] > a[j + 1]):\n",
    "            temp = a[j]\n",
    "            a[j] = a[j + 1]\n",
    "            a[j + 1] = temp\n",
    "            numberOfSwaps += 1\n",
    "    if (numberOfSwaps == 0):\n",
    "        break\n",
    "print( \"Array is sorted in \" + str(numberOfSwaps) + \" swaps.\" )\n",
    "print( \"First Element: \" + str(a[0]) )\n",
    "print( \"Last Element: \" +  str(a[n - 1]) )"
   ]
  },
  {
   "cell_type": "markdown",
   "id": "550a5224",
   "metadata": {},
   "source": [
    "### Day 21: Generics"
   ]
  },
  {
   "cell_type": "markdown",
   "id": "92cdff56",
   "metadata": {},
   "source": [
    "Unavailable in Python"
   ]
  },
  {
   "cell_type": "markdown",
   "id": "c26eb15f",
   "metadata": {},
   "source": [
    "### Day 22: Binary Search Tree"
   ]
  },
  {
   "cell_type": "code",
   "execution_count": 8,
   "id": "43008b42",
   "metadata": {},
   "outputs": [
    {
     "name": "stdout",
     "output_type": "stream",
     "text": [
      "8\n",
      "4\n",
      "3\n",
      "2\n",
      "6\n",
      "7\n",
      "1\n",
      "8\n",
      "9\n",
      "Height of tree:  4\n"
     ]
    }
   ],
   "source": [
    "class Node:\n",
    "    def __init__(self, data):\n",
    "        self.right = self.left = None\n",
    "        self.data = data\n",
    "        \n",
    "class Solution:\n",
    "    def insert(self, root, data):\n",
    "        if root == None:\n",
    "            return Node(data)\n",
    "        else:\n",
    "            if data <= root.data:\n",
    "                cur = self.insert(root.left, data)\n",
    "                root.left = cur\n",
    "            else:\n",
    "                cur = self.insert(root.right, data)\n",
    "                root.right = cur\n",
    "        return root    \n",
    "    \n",
    "    def getHeight(self, root):\n",
    "        if root is None or (root.left is None and root.right is None):\n",
    "            return 0\n",
    "        else:\n",
    "            return max(self.getHeight(root.left), self.getHeight(root.right))+1\n",
    "        \n",
    "T = int(input())\n",
    "myTree = Solution()\n",
    "root = None\n",
    "for i in range(T):\n",
    "    data = int(input())\n",
    "    root = myTree.insert(root,data)\n",
    "    \n",
    "height = myTree.getHeight(root)\n",
    "print(\"Height of tree: \",height)"
   ]
  },
  {
   "cell_type": "markdown",
   "id": "c92b2a35",
   "metadata": {},
   "source": [
    "### Day 23: Level Order Transversal"
   ]
  },
  {
   "cell_type": "code",
   "execution_count": 9,
   "id": "91c0a115",
   "metadata": {},
   "outputs": [
    {
     "name": "stdout",
     "output_type": "stream",
     "text": [
      "6\n",
      "4\n",
      "6\n",
      "3\n",
      "7\n",
      "5\n",
      "1\n",
      "4 3 6 1 5 7\n"
     ]
    }
   ],
   "source": [
    "import sys\n",
    "\n",
    "class Node:\n",
    "    def __init__(self, data):\n",
    "        self.right = self.left = None\n",
    "        self.data = data\n",
    "        \n",
    "class Solution:\n",
    "    def insert(self, root, data):\n",
    "        if root == None:\n",
    "            return Node(data)\n",
    "        else:\n",
    "            if data <= root.data:\n",
    "                cur = self.insert(root.left, data)\n",
    "                root.left = cur\n",
    "            else:\n",
    "                cur = self.insert(root.right,data)\n",
    "                root.right = cur\n",
    "            return root\n",
    "        \n",
    "    def levelOrder(self,root):\n",
    "        output=\"\"\n",
    "        queue=[root]\n",
    "        while queue:\n",
    "            current = queue.pop(0)\n",
    "            output += str(current.data) + \" \"\n",
    "            if current.left:\n",
    "                queue.append(current.left)\n",
    "            if current.right:\n",
    "                queue.append(current.right)\n",
    "        print(output[:-1])\n",
    "        \n",
    "    \n",
    "T = int(input())\n",
    "myTree = Solution()\n",
    "root = None\n",
    "for i in range(T):\n",
    "    data = int(input())\n",
    "    root = myTree.insert(root, data)\n",
    "    \n",
    "myTree.levelOrder(root)"
   ]
  },
  {
   "cell_type": "markdown",
   "id": "9fcbb4ae",
   "metadata": {},
   "source": [
    "### Day 24: Linked Lists 2"
   ]
  },
  {
   "cell_type": "code",
   "execution_count": 21,
   "id": "ac5b0caf",
   "metadata": {},
   "outputs": [
    {
     "name": "stdout",
     "output_type": "stream",
     "text": [
      "7\n",
      "3\n",
      "2\n",
      "5\n",
      "4\n",
      "4\n",
      "6\n",
      "1\n",
      "3 2 5 4 6 1 "
     ]
    }
   ],
   "source": [
    "class Node:\n",
    "    def __init__(self, data):\n",
    "        self.data = data\n",
    "        self.next = None\n",
    "        \n",
    "class Solution:\n",
    "    def insert(self, head, data):\n",
    "        p = Node(data)\n",
    "        if head == None:\n",
    "            head = p\n",
    "        elif head.next == None:\n",
    "            head.next = p\n",
    "        else:\n",
    "            start = head\n",
    "            while(start.next != None):\n",
    "                start = start.next\n",
    "            start.next = p\n",
    "        return head\n",
    "    def display(self, head):\n",
    "        current = head\n",
    "        while current:\n",
    "            print(current.data, end = ' ')\n",
    "            current = current.next\n",
    "\n",
    "    def removeDuplicates(self, head):\n",
    "        current = head\n",
    "        while (current.next):\n",
    "            if (current.data == current.next.data):\n",
    "                current.next = current.next.next\n",
    "            else:\n",
    "                current = current.next\n",
    "\n",
    "        return head\n",
    "    \n",
    "mylist = Solution()\n",
    "T = int(input())\n",
    "head = None\n",
    "for i in range(T):\n",
    "    data = int(input())\n",
    "    head = mylist.insert(head, data)\n",
    "    \n",
    "head = mylist.removeDuplicates(head)\n",
    "mylist.display(head)"
   ]
  },
  {
   "cell_type": "markdown",
   "id": "c6c34755",
   "metadata": {},
   "source": [
    "### Day 25: Time/Complexity"
   ]
  },
  {
   "cell_type": "code",
   "execution_count": 13,
   "id": "c3dfd535",
   "metadata": {},
   "outputs": [
    {
     "name": "stderr",
     "output_type": "stream",
     "text": [
      "<>:4: SyntaxWarning: \"is\" with a literal. Did you mean \"==\"?\n",
      "<>:8: SyntaxWarning: \"is\" with a literal. Did you mean \"==\"?\n",
      "<>:4: SyntaxWarning: \"is\" with a literal. Did you mean \"==\"?\n",
      "<>:8: SyntaxWarning: \"is\" with a literal. Did you mean \"==\"?\n",
      "<ipython-input-13-00828938cc21>:4: SyntaxWarning: \"is\" with a literal. Did you mean \"==\"?\n",
      "  if num is 1:\n",
      "<ipython-input-13-00828938cc21>:8: SyntaxWarning: \"is\" with a literal. Did you mean \"==\"?\n",
      "  if num % x is 0:\n"
     ]
    },
    {
     "name": "stdout",
     "output_type": "stream",
     "text": [
      "3\n",
      "13\n",
      "Prime\n",
      "15\n",
      "Not prime\n",
      "21\n",
      "Not prime\n"
     ]
    }
   ],
   "source": [
    "import math\n",
    "\n",
    "def check_prime(num):\n",
    "    if num is 1:\n",
    "        return \"Not prime\"\n",
    "    sq = int(math.sqrt(num))\n",
    "    for x in range(2, sq+1):\n",
    "        if num % x is 0:\n",
    "            return \"Not prime\"\n",
    "    return \"Prime\"\n",
    "\n",
    "t = int(input())\n",
    "for i in range(t):\n",
    "    number = int(input())\n",
    "    print(check_prime(number))"
   ]
  },
  {
   "cell_type": "markdown",
   "id": "39206906",
   "metadata": {},
   "source": [
    "### Day 26: Nested Logic"
   ]
  },
  {
   "cell_type": "code",
   "execution_count": 17,
   "id": "ca22ee98",
   "metadata": {},
   "outputs": [
    {
     "name": "stdout",
     "output_type": "stream",
     "text": [
      "11 12 2021\n",
      "25 7 2021\n",
      "2500\n"
     ]
    }
   ],
   "source": [
    "da, ma, ya = input().split(' ')\n",
    "da = int(da)\n",
    "ma = int(ma)\n",
    "ya = int(ya)\n",
    "de, me, ye = input().split(' ')\n",
    "de = int(de)\n",
    "me = int(me)\n",
    "ye = int(ye)\n",
    "fine = 0\n",
    "if(ye==ya):\n",
    "    if(me < ma):\n",
    "        fine = (ma - me) * 500\n",
    "        \n",
    "    elif((me == ma) and (de < da)):\n",
    "        fine = (da - de) * 15\n",
    "        \n",
    "elif(ye < ya):\n",
    "    fine = 10000\n",
    "\n",
    "print(fine)"
   ]
  },
  {
   "cell_type": "markdown",
   "id": "83caea30",
   "metadata": {},
   "source": [
    "### Day 27: Testing"
   ]
  },
  {
   "cell_type": "code",
   "execution_count": null,
   "id": "08ee6f26",
   "metadata": {},
   "outputs": [],
   "source": [
    "def minimum_index(seq):\n",
    "    if len(seq) == 0:\n",
    "        raise ValueError(\"Cannot get the minimum value index from an empty sequence\")\n",
    "    min_idx = 0\n",
    "    for i in range(1, len(seq)):\n",
    "        if seq[i] < seq[min_idx]:\n",
    "            min_idx = i\n",
    "    return min_idx\n",
    "\n",
    "class TestDataEmptyArray(object):\n",
    "    \n",
    "    @staticmethod\n",
    "    def get_array():\n",
    "        return []\n",
    "\n",
    "class TestDataUniqueValues(object):\n",
    "\n",
    "    @staticmethod\n",
    "    def get_array():\n",
    "        return [7, 4, 3, 8, 14]\n",
    "\n",
    "    @staticmethod\n",
    "    def get_expected_result():\n",
    "        return 2\n",
    "\n",
    "class TestDataExactlyTwoDifferentMinimums(object):\n",
    "\n",
    "    @staticmethod\n",
    "    def get_array():\n",
    "        return [7, 4, 3, 8, 3, 14]\n",
    "\n",
    "    @staticmethod\n",
    "    def get_expected_result():\n",
    "        return 2"
   ]
  },
  {
   "cell_type": "markdown",
   "id": "06ac4441",
   "metadata": {},
   "source": [
    "### Day 28: Regex"
   ]
  },
  {
   "cell_type": "code",
   "execution_count": 11,
   "id": "cc406a7c",
   "metadata": {},
   "outputs": [
    {
     "name": "stdout",
     "output_type": "stream",
     "text": [
      "2\n",
      "aditya aditya@gmail.com\n",
      "uk uk@gmail.com\n",
      "aditya\n",
      "uk\n"
     ]
    }
   ],
   "source": [
    "import sys\n",
    "import re\n",
    "\n",
    "N = int(input().strip())\n",
    "names = []\n",
    "for a0 in range(N):\n",
    "    firstName,emailID = input().strip().split(' ')\n",
    "    firstName,emailID = [str(firstName),str(emailID)]\n",
    "    match = re.search(r'[\\w\\.-]+@gmail.com', emailID)\n",
    "\n",
    "    if match:\n",
    "        names.append(firstName)\n",
    "names.sort()\n",
    "for name in names:\n",
    "    print( name )"
   ]
  },
  {
   "cell_type": "markdown",
   "id": "4244b3b0",
   "metadata": {},
   "source": [
    "### Day 29: Bitwise AND"
   ]
  },
  {
   "cell_type": "code",
   "execution_count": 12,
   "id": "5da11bf6",
   "metadata": {},
   "outputs": [
    {
     "name": "stdout",
     "output_type": "stream",
     "text": [
      "3\n",
      "5 3\n",
      "2\n",
      "9 6\n",
      "5\n",
      "4 4\n",
      "2\n"
     ]
    }
   ],
   "source": [
    "import sys\n",
    "\n",
    "t = int(input().strip())\n",
    "for a0 in range(t):\n",
    "    n, k = input().strip().split(' ')\n",
    "    n, k = [int(n), int(k)]\n",
    "    print(k-1 if ((k-1) | k) <= n else k-2)"
   ]
  },
  {
   "cell_type": "code",
   "execution_count": null,
   "id": "8b8437a4",
   "metadata": {},
   "outputs": [],
   "source": []
  }
 ],
 "metadata": {
  "kernelspec": {
   "display_name": "Python 3",
   "language": "python",
   "name": "python3"
  },
  "language_info": {
   "codemirror_mode": {
    "name": "ipython",
    "version": 3
   },
   "file_extension": ".py",
   "mimetype": "text/x-python",
   "name": "python",
   "nbconvert_exporter": "python",
   "pygments_lexer": "ipython3",
   "version": "3.8.0"
  }
 },
 "nbformat": 4,
 "nbformat_minor": 5
}
