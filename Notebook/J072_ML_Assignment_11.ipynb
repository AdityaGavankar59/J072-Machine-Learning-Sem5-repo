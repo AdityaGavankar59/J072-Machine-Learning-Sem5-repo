{
 "cells": [
  {
   "cell_type": "markdown",
   "id": "6dd5ebff",
   "metadata": {},
   "source": [
    "# Machine Learning Assignment\n",
    "### Aditya Gavankar (J072)\n",
    "\n",
    "## Exp 11:- Naive Bayes from Scratch"
   ]
  },
  {
   "cell_type": "markdown",
   "id": "f0bb72ac",
   "metadata": {},
   "source": [
    "#### Importing Libraries"
   ]
  },
  {
   "cell_type": "code",
   "execution_count": 44,
   "id": "17bc8385",
   "metadata": {},
   "outputs": [],
   "source": [
    "import numpy as np\n",
    "import pandas as pd\n",
    "from sklearn import datasets\n",
    "from collections import Counter"
   ]
  },
  {
   "cell_type": "code",
   "execution_count": 45,
   "id": "78405e85",
   "metadata": {},
   "outputs": [
    {
     "data": {
      "text/html": [
       "<div>\n",
       "<style scoped>\n",
       "    .dataframe tbody tr th:only-of-type {\n",
       "        vertical-align: middle;\n",
       "    }\n",
       "\n",
       "    .dataframe tbody tr th {\n",
       "        vertical-align: top;\n",
       "    }\n",
       "\n",
       "    .dataframe thead th {\n",
       "        text-align: right;\n",
       "    }\n",
       "</style>\n",
       "<table border=\"1\" class=\"dataframe\">\n",
       "  <thead>\n",
       "    <tr style=\"text-align: right;\">\n",
       "      <th></th>\n",
       "      <th>sepal length (cm)</th>\n",
       "      <th>sepal width (cm)</th>\n",
       "      <th>petal length (cm)</th>\n",
       "      <th>petal width (cm)</th>\n",
       "      <th>Species</th>\n",
       "    </tr>\n",
       "  </thead>\n",
       "  <tbody>\n",
       "    <tr>\n",
       "      <th>0</th>\n",
       "      <td>5.1</td>\n",
       "      <td>3.5</td>\n",
       "      <td>1.4</td>\n",
       "      <td>0.2</td>\n",
       "      <td>0.0</td>\n",
       "    </tr>\n",
       "    <tr>\n",
       "      <th>1</th>\n",
       "      <td>4.9</td>\n",
       "      <td>3.0</td>\n",
       "      <td>1.4</td>\n",
       "      <td>0.2</td>\n",
       "      <td>0.0</td>\n",
       "    </tr>\n",
       "    <tr>\n",
       "      <th>2</th>\n",
       "      <td>4.7</td>\n",
       "      <td>3.2</td>\n",
       "      <td>1.3</td>\n",
       "      <td>0.2</td>\n",
       "      <td>0.0</td>\n",
       "    </tr>\n",
       "    <tr>\n",
       "      <th>3</th>\n",
       "      <td>4.6</td>\n",
       "      <td>3.1</td>\n",
       "      <td>1.5</td>\n",
       "      <td>0.2</td>\n",
       "      <td>0.0</td>\n",
       "    </tr>\n",
       "    <tr>\n",
       "      <th>4</th>\n",
       "      <td>5.0</td>\n",
       "      <td>3.6</td>\n",
       "      <td>1.4</td>\n",
       "      <td>0.2</td>\n",
       "      <td>0.0</td>\n",
       "    </tr>\n",
       "  </tbody>\n",
       "</table>\n",
       "</div>"
      ],
      "text/plain": [
       "   sepal length (cm)  sepal width (cm)  petal length (cm)  petal width (cm)  \\\n",
       "0                5.1               3.5                1.4               0.2   \n",
       "1                4.9               3.0                1.4               0.2   \n",
       "2                4.7               3.2                1.3               0.2   \n",
       "3                4.6               3.1                1.5               0.2   \n",
       "4                5.0               3.6                1.4               0.2   \n",
       "\n",
       "   Species  \n",
       "0      0.0  \n",
       "1      0.0  \n",
       "2      0.0  \n",
       "3      0.0  \n",
       "4      0.0  "
      ]
     },
     "execution_count": 45,
     "metadata": {},
     "output_type": "execute_result"
    }
   ],
   "source": [
    "iris = datasets.load_iris()\n",
    "Species = iris.target\n",
    "data = pd.DataFrame(np.c_[iris.data, Species.reshape((Species.shape[0],1))], columns = iris.feature_names + ['Species'])\n",
    "data.head()"
   ]
  },
  {
   "cell_type": "code",
   "execution_count": 46,
   "id": "66f641e0",
   "metadata": {},
   "outputs": [
    {
     "data": {
      "text/plain": [
       "2.0    50\n",
       "1.0    50\n",
       "0.0    50\n",
       "Name: Species, dtype: int64"
      ]
     },
     "execution_count": 46,
     "metadata": {},
     "output_type": "execute_result"
    }
   ],
   "source": [
    "data['Species'].value_counts()"
   ]
  },
  {
   "cell_type": "markdown",
   "id": "707f05d2",
   "metadata": {},
   "source": [
    "#### Using Naive Bayes function"
   ]
  },
  {
   "cell_type": "code",
   "execution_count": 47,
   "id": "58014b8a",
   "metadata": {},
   "outputs": [],
   "source": [
    "from sklearn.model_selection import train_test_split\n",
    "train, test = train_test_split(data, test_size = 0.2, random_state = 0)"
   ]
  },
  {
   "cell_type": "code",
   "execution_count": 48,
   "id": "8e34709f",
   "metadata": {},
   "outputs": [],
   "source": [
    "class NB():\n",
    "    def __init__(self,train):\n",
    "        self.train = train\n",
    "        self.X_train = train.drop('Species', axis = 1)\n",
    "        self.Y_train = train['Species']\n",
    "        self.s = {}\n",
    "\n",
    "    def fit(self):\n",
    "        self.result = Counter(self.Y_train)\n",
    "        for target in self.result.keys():\n",
    "            for col in self.X_train.columns:\n",
    "                self.s[target,col,\"mean\"] = self.train[self.train['Species'] == target].mean()[col]\n",
    "                self.s[target,col,\"std\"] = self.train[self.train['Species'] == target].std()[col]\n",
    "                \n",
    "        for i in self.result:\n",
    "            self.result[i] = round(self.result[i]/len(self.X_train.index),8)\n",
    "\n",
    "    def predict(self,X_test):\n",
    "        count = 0\n",
    "        prediction = []\n",
    "        for i in X_test.index: #enters into a row-wise loop\n",
    "            prob_index = {}\n",
    "            for target in self.result: #enters into a loop for every value of target\n",
    "                prob = self.result[target]\n",
    "                for col in self.X_train: \n",
    "                    a = 1/(((2*np.pi)**0.5)*self.s[target,col,\"std\"])\n",
    "                    b = -((X_test[col][i] - self.s[target,col,\"mean\"])**2)\n",
    "                    c = 2*(self.s[target,col,\"std\"]**2)\n",
    "                    prob = prob * a * np.exp(b/c)\n",
    "                prob_index[target] = prob\n",
    "\n",
    "            probability = 0\n",
    "            for target in prob_index:\n",
    "                if prob_index[target] > probability:\n",
    "                    pred = target\n",
    "                    probability = prob_index[target]\n",
    "            prediction.append(pred)\n",
    "            \n",
    "        return prediction\n"
   ]
  },
  {
   "cell_type": "code",
   "execution_count": 49,
   "id": "2faecfe1",
   "metadata": {},
   "outputs": [],
   "source": [
    "clf = NB(train)\n",
    "clf.fit()"
   ]
  },
  {
   "cell_type": "code",
   "execution_count": 50,
   "id": "37961fc8",
   "metadata": {},
   "outputs": [],
   "source": [
    "Y_test = test['Species']\n",
    "X_test = test.drop('Species', axis = 1)\n",
    "predictions = clf.predict(X_test)"
   ]
  },
  {
   "cell_type": "code",
   "execution_count": 51,
   "id": "720db5c2",
   "metadata": {},
   "outputs": [
    {
     "data": {
      "text/plain": [
       "0.9666666666666667"
      ]
     },
     "execution_count": 51,
     "metadata": {},
     "output_type": "execute_result"
    }
   ],
   "source": [
    "from sklearn.metrics import accuracy_score\n",
    "accuracy_score(Y_test, predictions)"
   ]
  },
  {
   "cell_type": "markdown",
   "id": "bfa6ca43",
   "metadata": {},
   "source": [
    "#### Using Naive Bayes in Scikit Learn"
   ]
  },
  {
   "cell_type": "code",
   "execution_count": 52,
   "id": "c5d1c6dd",
   "metadata": {},
   "outputs": [],
   "source": [
    "X = data.drop(['Species'],axis = 1)\n",
    "y = data['Species']"
   ]
  },
  {
   "cell_type": "code",
   "execution_count": 53,
   "id": "642d8061",
   "metadata": {},
   "outputs": [],
   "source": [
    "from sklearn.model_selection import train_test_split\n",
    "X_train, X_test, y_train, y_test = train_test_split(X,y,test_size=0.2,random_state=0)"
   ]
  },
  {
   "cell_type": "code",
   "execution_count": 54,
   "id": "d03b51b0",
   "metadata": {},
   "outputs": [
    {
     "data": {
      "text/plain": [
       "0.9666666666666667"
      ]
     },
     "execution_count": 54,
     "metadata": {},
     "output_type": "execute_result"
    }
   ],
   "source": [
    "from sklearn.naive_bayes import GaussianNB\n",
    "gnb = GaussianNB()\n",
    "predictions1 = gnb.fit(X_train, y_train).predict(X_test)\n",
    "accuracy_score(y_test, predictions1)"
   ]
  },
  {
   "cell_type": "code",
   "execution_count": null,
   "id": "2f269655",
   "metadata": {},
   "outputs": [],
   "source": []
  }
 ],
 "metadata": {
  "kernelspec": {
   "display_name": "Python 3",
   "language": "python",
   "name": "python3"
  },
  "language_info": {
   "codemirror_mode": {
    "name": "ipython",
    "version": 3
   },
   "file_extension": ".py",
   "mimetype": "text/x-python",
   "name": "python",
   "nbconvert_exporter": "python",
   "pygments_lexer": "ipython3",
   "version": "3.8.0"
  }
 },
 "nbformat": 4,
 "nbformat_minor": 5
}
