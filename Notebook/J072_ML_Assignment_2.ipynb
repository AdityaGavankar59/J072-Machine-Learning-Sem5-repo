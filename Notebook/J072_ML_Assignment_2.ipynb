{
 "cells": [
  {
   "cell_type": "markdown",
   "id": "aa1f5e86",
   "metadata": {},
   "source": [
    "# Machine Learning Assignment\n",
    "### Aditya Gavankar (J072)\n",
    "\n",
    "## Exp 2 :- Numpy Basics & Properties"
   ]
  },
  {
   "cell_type": "code",
   "execution_count": 1,
   "id": "6dacc2ef",
   "metadata": {},
   "outputs": [],
   "source": [
    "import numpy as np\n",
    "import time"
   ]
  },
  {
   "cell_type": "code",
   "execution_count": 2,
   "id": "48bb2b13",
   "metadata": {},
   "outputs": [
    {
     "data": {
      "text/plain": [
       "array([[11, 12, 13],\n",
       "       [14, 15, 16],\n",
       "       [17, 18, 19]])"
      ]
     },
     "execution_count": 2,
     "metadata": {},
     "output_type": "execute_result"
    }
   ],
   "source": [
    "mat1 = np.arange(11, 20, 1)\n",
    "A = mat1.reshape(3, 3)\n",
    "A"
   ]
  },
  {
   "cell_type": "code",
   "execution_count": 3,
   "id": "00ff2d01",
   "metadata": {},
   "outputs": [
    {
     "data": {
      "text/plain": [
       "array([[10, 11, 12],\n",
       "       [13, 14, 15],\n",
       "       [16, 17, 18]])"
      ]
     },
     "execution_count": 3,
     "metadata": {},
     "output_type": "execute_result"
    }
   ],
   "source": [
    "mat2 = np.arange(10, 19, 1)\n",
    "B = mat2.reshape(3, 3)\n",
    "B"
   ]
  },
  {
   "cell_type": "code",
   "execution_count": 4,
   "id": "6c45ed73",
   "metadata": {},
   "outputs": [
    {
     "data": {
      "text/plain": [
       "array([[0, 1, 2],\n",
       "       [3, 4, 5],\n",
       "       [6, 7, 8]])"
      ]
     },
     "execution_count": 4,
     "metadata": {},
     "output_type": "execute_result"
    }
   ],
   "source": [
    "mat3 = np.arange(0, 9, 1)\n",
    "C = mat3.reshape(3, 3)\n",
    "C"
   ]
  },
  {
   "cell_type": "markdown",
   "id": "ab268b66",
   "metadata": {},
   "source": [
    "## Task 1 :- Properties\n",
    "### 1) Non-commutitive (AB != BA)"
   ]
  },
  {
   "cell_type": "code",
   "execution_count": 5,
   "id": "273ee6c3",
   "metadata": {},
   "outputs": [
    {
     "data": {
      "text/plain": [
       "array([[474, 510, 546],\n",
       "       [591, 636, 681],\n",
       "       [708, 762, 816]])"
      ]
     },
     "execution_count": 5,
     "metadata": {},
     "output_type": "execute_result"
    }
   ],
   "source": [
    "np.dot(A, B)"
   ]
  },
  {
   "cell_type": "code",
   "execution_count": 6,
   "id": "3f90a3fd",
   "metadata": {},
   "outputs": [
    {
     "data": {
      "text/plain": [
       "array([[468, 501, 534],\n",
       "       [594, 636, 678],\n",
       "       [720, 771, 822]])"
      ]
     },
     "execution_count": 6,
     "metadata": {},
     "output_type": "execute_result"
    }
   ],
   "source": [
    "np.dot(B, A)"
   ]
  },
  {
   "cell_type": "markdown",
   "id": "62ebf657",
   "metadata": {},
   "source": [
    "### 2) Associative [A(BC) = (AB)C]"
   ]
  },
  {
   "cell_type": "code",
   "execution_count": 7,
   "id": "0bddcda2",
   "metadata": {},
   "outputs": [
    {
     "data": {
      "text/plain": [
       "array([[ 4806,  6336,  7866],\n",
       "       [ 5994,  7902,  9810],\n",
       "       [ 7182,  9468, 11754]])"
      ]
     },
     "execution_count": 7,
     "metadata": {},
     "output_type": "execute_result"
    }
   ],
   "source": [
    "A.dot(B.dot(C))"
   ]
  },
  {
   "cell_type": "code",
   "execution_count": 8,
   "id": "8dcd2b6a",
   "metadata": {},
   "outputs": [
    {
     "data": {
      "text/plain": [
       "array([[ 4806,  6336,  7866],\n",
       "       [ 5994,  7902,  9810],\n",
       "       [ 7182,  9468, 11754]])"
      ]
     },
     "execution_count": 8,
     "metadata": {},
     "output_type": "execute_result"
    }
   ],
   "source": [
    "(A.dot(B)).dot(C)"
   ]
  },
  {
   "cell_type": "markdown",
   "id": "a875e0c4",
   "metadata": {},
   "source": [
    "### 3) Distributive [A(B+C) = AB + AC]"
   ]
  },
  {
   "cell_type": "code",
   "execution_count": 9,
   "id": "d0e25a03",
   "metadata": {},
   "outputs": [
    {
     "data": {
      "text/plain": [
       "array([[ 588,  660,  732],\n",
       "       [ 732,  822,  912],\n",
       "       [ 876,  984, 1092]])"
      ]
     },
     "execution_count": 9,
     "metadata": {},
     "output_type": "execute_result"
    }
   ],
   "source": [
    "A.dot(B + C)"
   ]
  },
  {
   "cell_type": "code",
   "execution_count": 10,
   "id": "2b8302e5",
   "metadata": {},
   "outputs": [
    {
     "data": {
      "text/plain": [
       "array([[ 588,  660,  732],\n",
       "       [ 732,  822,  912],\n",
       "       [ 876,  984, 1092]])"
      ]
     },
     "execution_count": 10,
     "metadata": {},
     "output_type": "execute_result"
    }
   ],
   "source": [
    "(A.dot(B)) + (A.dot(C))"
   ]
  },
  {
   "cell_type": "markdown",
   "id": "7862f7fe",
   "metadata": {},
   "source": [
    "### 4) Multiplicative identity (AI = IA)"
   ]
  },
  {
   "cell_type": "code",
   "execution_count": 11,
   "id": "9a091f72",
   "metadata": {},
   "outputs": [
    {
     "data": {
      "text/plain": [
       "array([[4, 1, 2, 3, 2],\n",
       "       [4, 0, 3, 2, 0],\n",
       "       [2, 1, 1, 3, 3],\n",
       "       [0, 3, 3, 3, 4],\n",
       "       [3, 0, 2, 4, 2]])"
      ]
     },
     "execution_count": 11,
     "metadata": {},
     "output_type": "execute_result"
    }
   ],
   "source": [
    "D = np.random.randint(0, 5, (5, 5))\n",
    "D"
   ]
  },
  {
   "cell_type": "code",
   "execution_count": 12,
   "id": "aaa58c37",
   "metadata": {},
   "outputs": [
    {
     "data": {
      "text/plain": [
       "array([[1., 0., 0., 0., 0.],\n",
       "       [0., 1., 0., 0., 0.],\n",
       "       [0., 0., 1., 0., 0.],\n",
       "       [0., 0., 0., 1., 0.],\n",
       "       [0., 0., 0., 0., 1.]])"
      ]
     },
     "execution_count": 12,
     "metadata": {},
     "output_type": "execute_result"
    }
   ],
   "source": [
    "I = np.identity(5)\n",
    "I"
   ]
  },
  {
   "cell_type": "code",
   "execution_count": 13,
   "id": "86ee037a",
   "metadata": {},
   "outputs": [
    {
     "data": {
      "text/plain": [
       "array([[4., 1., 2., 3., 2.],\n",
       "       [4., 0., 3., 2., 0.],\n",
       "       [2., 1., 1., 3., 3.],\n",
       "       [0., 3., 3., 3., 4.],\n",
       "       [3., 0., 2., 4., 2.]])"
      ]
     },
     "execution_count": 13,
     "metadata": {},
     "output_type": "execute_result"
    }
   ],
   "source": [
    "np.dot(D, I)"
   ]
  },
  {
   "cell_type": "code",
   "execution_count": 14,
   "id": "f3d00595",
   "metadata": {},
   "outputs": [
    {
     "data": {
      "text/plain": [
       "array([[4., 1., 2., 3., 2.],\n",
       "       [4., 0., 3., 2., 0.],\n",
       "       [2., 1., 1., 3., 3.],\n",
       "       [0., 3., 3., 3., 4.],\n",
       "       [3., 0., 2., 4., 2.]])"
      ]
     },
     "execution_count": 14,
     "metadata": {},
     "output_type": "execute_result"
    }
   ],
   "source": [
    "np.dot(I, D)"
   ]
  },
  {
   "cell_type": "markdown",
   "id": "1e1ed72e",
   "metadata": {},
   "source": [
    "## Task 2 :- Matrix Inverse"
   ]
  },
  {
   "cell_type": "code",
   "execution_count": 15,
   "id": "ce118ce8",
   "metadata": {},
   "outputs": [
    {
     "data": {
      "text/plain": [
       "array([[ 2, 81, 77, 95, 73],\n",
       "       [20,  1, 28, 31, 85],\n",
       "       [ 7, 60, 44, 50, 85],\n",
       "       [41, 28, 98, 92, 40],\n",
       "       [58, 41, 81, 29,  3]])"
      ]
     },
     "execution_count": 15,
     "metadata": {},
     "output_type": "execute_result"
    }
   ],
   "source": [
    "mat = np.random.randint(0,100,(5,5))\n",
    "mat"
   ]
  },
  {
   "cell_type": "code",
   "execution_count": 16,
   "id": "319717ac",
   "metadata": {},
   "outputs": [
    {
     "data": {
      "text/plain": [
       "array([[-0.46067861, -0.32902508,  0.58029919,  0.31789376, -0.14817034],\n",
       "       [-0.13567775, -0.11267002,  0.18900132,  0.0885485 , -0.04187486],\n",
       "       [ 0.51300488,  0.37901528, -0.65757374, -0.35810631,  0.18412171],\n",
       "       [-0.32589015, -0.24705471,  0.41652588,  0.24410307, -0.12639712],\n",
       "       [ 0.05985539,  0.05575811, -0.07406144, -0.04690168,  0.02080217]])"
      ]
     },
     "execution_count": 16,
     "metadata": {},
     "output_type": "execute_result"
    }
   ],
   "source": [
    "mat_invert = np.linalg.inv(mat)\n",
    "mat_invert"
   ]
  },
  {
   "cell_type": "markdown",
   "id": "2fa4ba82",
   "metadata": {},
   "source": [
    "## Task 3 :- Numpy v/s Loops (Time computation)"
   ]
  },
  {
   "cell_type": "code",
   "execution_count": 17,
   "id": "51529fd6",
   "metadata": {},
   "outputs": [],
   "source": [
    "matrix1 = np.random.randint(5, size=(10000, 10000))\n",
    "matrix2 = np.random.randint(5, size=(10000, 10000))"
   ]
  },
  {
   "cell_type": "code",
   "execution_count": 18,
   "id": "e917ed37",
   "metadata": {},
   "outputs": [
    {
     "name": "stdout",
     "output_type": "stream",
     "text": [
      "Time taken using loops:\n",
      "198.81241416931152\n"
     ]
    }
   ],
   "source": [
    "#Using For Loops\n",
    "\n",
    "start = time.time()\n",
    "for i in range(len(matrix1)):\n",
    "    for j in range(len(matrix1)):\n",
    "        matrix1[i][j] = matrix1[i][j] + 1\n",
    "        \n",
    "print(\"Time taken using loops:\")\n",
    "print(time.time() - start)"
   ]
  },
  {
   "cell_type": "code",
   "execution_count": 19,
   "id": "c181423d",
   "metadata": {},
   "outputs": [
    {
     "name": "stdout",
     "output_type": "stream",
     "text": [
      "Time taken using numpy:\n",
      "0.2942678928375244\n"
     ]
    }
   ],
   "source": [
    "#Using Numpy\n",
    "\n",
    "start = time.time()\n",
    "ans = np.add(matrix2, matrix2)\n",
    "print(\"Time taken using numpy:\")\n",
    "print(time.time() - start)"
   ]
  }
 ],
 "metadata": {
  "kernelspec": {
   "display_name": "Python 3",
   "language": "python",
   "name": "python3"
  },
  "language_info": {
   "codemirror_mode": {
    "name": "ipython",
    "version": 3
   },
   "file_extension": ".py",
   "mimetype": "text/x-python",
   "name": "python",
   "nbconvert_exporter": "python",
   "pygments_lexer": "ipython3",
   "version": "3.8.0"
  }
 },
 "nbformat": 4,
 "nbformat_minor": 5
}
